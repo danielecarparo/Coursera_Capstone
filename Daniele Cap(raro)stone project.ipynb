{
    "cells": [
        {
            "cell_type": "markdown",
            "metadata": {
                "collapsed": true
            },
            "source": "# Capstone project - _Data Daddy_\n##### Note to reader: this is all hypothetical"
        },
        {
            "cell_type": "markdown",
            "metadata": {},
            "source": "### Introduction"
        },
        {
            "cell_type": "markdown",
            "metadata": {},
            "source": "Data Daddy, established by Sir Daniele Capraro, is a company that provides all data analytics outsourcing needs. Established in 2009, Data Daddy was originally focused on the financial institutions and successfully worked with and developed bespoke models to assist these companies during and post financial crisis. Throughout the 2010s, Data Daddy was established as a leader for in Financial industry. With this reputation, towards the end of 2019, Data Daddy attempted to branch out into industries, however, this evolution was halted due to COVID19 (#TotallyRelevant).\n\nWith COVID19 eradicated 6 months ago, we are seeing people re-enter the workforce, unemployment rates dropping, and the general public\u2019s \u201cwillingness\u201d to spend is rapidly increasing back to normal. For Data Daddy, this influx translates spike in demand, and the need to open a new San Francisco office.\n\nThis report will determine the optimal neighbourhood in San Francisco to open a new branch."
        },
        {
            "cell_type": "markdown",
            "metadata": {},
            "source": "### Data"
        },
        {
            "cell_type": "markdown",
            "metadata": {},
            "source": "In a prior project, in anticipation for opening a new San Francisco office, all 257 Data Daddy employees were asked to fill out a questionnaire, rating on a 5 point likert scale, which aspect of their job is tied to their job satisfaction. A quick analysis showed the overwhelming majority of employees associated their job satisfaction with local places to eat. See Figure 1 below."
        },
        {
            "cell_type": "markdown",
            "metadata": {},
            "source": "#### Figure 1 - Average result of job satisfaction survery"
        },
        {
            "cell_type": "code",
            "execution_count": 46,
            "metadata": {},
            "outputs": [
                {
                    "data": {
                        "text/html": "<div>\n<style scoped>\n    .dataframe tbody tr th:only-of-type {\n        vertical-align: middle;\n    }\n\n    .dataframe tbody tr th {\n        vertical-align: top;\n    }\n\n    .dataframe thead th {\n        text-align: right;\n    }\n</style>\n<table border=\"1\" class=\"dataframe\">\n  <thead>\n    <tr style=\"text-align: right;\">\n      <th></th>\n      <th>Question</th>\n      <th>Average rating</th>\n    </tr>\n  </thead>\n  <tbody>\n    <tr>\n      <th>0</th>\n      <td>Q1 - I appreciate  the guidance I receive from...</td>\n      <td>3.89</td>\n    </tr>\n    <tr>\n      <th>1</th>\n      <td>Q2 - I enjoy the nature of the work</td>\n      <td>3.71</td>\n    </tr>\n    <tr>\n      <th>2</th>\n      <td>Q3 - I enjoy a variety of local places to eat</td>\n      <td>4.47</td>\n    </tr>\n    <tr>\n      <th>3</th>\n      <td>Q4 - I like the set up of the office</td>\n      <td>3.22</td>\n    </tr>\n    <tr>\n      <th>4</th>\n      <td>Q5 - The weather affectes my job satisfaction</td>\n      <td>1.87</td>\n    </tr>\n  </tbody>\n</table>\n</div>",
                        "text/plain": "                                            Question  Average rating\n0  Q1 - I appreciate  the guidance I receive from...            3.89\n1                Q2 - I enjoy the nature of the work            3.71\n2      Q3 - I enjoy a variety of local places to eat            4.47\n3              Q4 - I like the set up of the office             3.22\n4      Q5 - The weather affectes my job satisfaction            1.87"
                    },
                    "execution_count": 46,
                    "metadata": {},
                    "output_type": "execute_result"
                }
            ],
            "source": "import pandas as pd\n\ndata = {'Question':  ['Q1 - I appreciate  the guidance I receive from my manager','Q2 - I enjoy the nature of the work','Q3 - I enjoy a variety of local places to eat','Q4 - I like the set up of the office ','Q5 - The weather affectes my job satisfaction'],\n        'Average rating': [3.89,3.71,4.47,3.22,1.87]\n        }\n\ndf_survey = pd.DataFrame (data, columns = ['Question','Average rating'])\ndf_survey"
        },
        {
            "cell_type": "markdown",
            "metadata": {},
            "source": "#### Figure 2 - Frequency count of \"Q3 - I enjoy a variety of local places to eat\" rating"
        },
        {
            "cell_type": "code",
            "execution_count": 61,
            "metadata": {},
            "outputs": [
                {
                    "data": {
                        "text/html": "<div>\n<style scoped>\n    .dataframe tbody tr th:only-of-type {\n        vertical-align: middle;\n    }\n\n    .dataframe tbody tr th {\n        vertical-align: top;\n    }\n\n    .dataframe thead th {\n        text-align: right;\n    }\n</style>\n<table border=\"1\" class=\"dataframe\">\n  <thead>\n    <tr style=\"text-align: right;\">\n      <th></th>\n      <th>Q3 - I enjoy a variety of local places to eat</th>\n      <th>Frequency</th>\n      <th>Percentage</th>\n    </tr>\n  </thead>\n  <tbody>\n    <tr>\n      <th>0</th>\n      <td>Strongly Disagree</td>\n      <td>2</td>\n      <td>1.0</td>\n    </tr>\n    <tr>\n      <th>1</th>\n      <td>Disagree</td>\n      <td>16</td>\n      <td>5.0</td>\n    </tr>\n    <tr>\n      <th>2</th>\n      <td>Indifferent</td>\n      <td>23</td>\n      <td>7.0</td>\n    </tr>\n    <tr>\n      <th>3</th>\n      <td>Agree</td>\n      <td>80</td>\n      <td>23.0</td>\n    </tr>\n    <tr>\n      <th>4</th>\n      <td>Strongly Agree</td>\n      <td>224</td>\n      <td>65.0</td>\n    </tr>\n  </tbody>\n</table>\n</div>",
                        "text/plain": "  Q3 - I enjoy a variety of local places to eat  Frequency  Percentage\n0                             Strongly Disagree          2         1.0\n1                                      Disagree         16         5.0\n2                                   Indifferent         23         7.0\n3                                         Agree         80        23.0\n4                                Strongly Agree        224        65.0"
                    },
                    "execution_count": 61,
                    "metadata": {},
                    "output_type": "execute_result"
                }
            ],
            "source": "import pandas as pd\n\ndata = {'Q3 - I enjoy a variety of local places to eat':  ['Strongly Disagree','Disagree','Indifferent','Agree','Strongly Agree'],\n        'Frequency': [2,16,23,80,224]\n        }\n\ndf_Q3survey = pd.DataFrame (data, columns = ['Q3 - I enjoy a variety of local places to eat','Frequency'])\n\nPercentage = df_Q3survey['Frequency']/df_Q3survey['Frequency'].sum()\n\ndf_Q3survey['Percentage'] = (Percentage*100).round(0)\n\ndf_Q3survey"
        },
        {
            "cell_type": "markdown",
            "metadata": {},
            "source": "With 88% of Data Daddy employees agree/strongly agreeing to local places to eat job satisfaction, the free text section of this questionnarie uncovered Data Daddy employees all cited pizza in this section, where:\n- Employees enjoy the eating pizza for lunch,\n- Employees enjoy ordering pizza for social work events, and \n- Employees enjoy their clients taking them out to pizzerias.\n\nWith the number of places selling pizza as the primary driver in Data Daddy employees job satisfaction, we will leverage off Foursquare data to determine the optimal neighborhood to open a new Data Daddy branch.\n###### Please note: San Francisco neighbourhood are: Central, Southern, Bayview, Mission, Park, Richmond, Ingleside, Taraval, Northern, and, Tenderloin.\n\nWe would assume the Central neighbourbood to have the most pizzerias.\n\nData we will be extracting from Foursquare is the number of places that sell pizza in San Francisco\nWe will also be leveraging off ______ to obtain the coordinates for each neighborhoood in San Francisco. We will use this to display the pizza restaurant density by neighborhood through a choropleth graph.\n\nOne limitation for Foursquare is that I am not able to extract all the restaurants that sell pizza in one go. To get around this, I will extract the 50 closest restaurants that sell pizza for each neighborhood, and remove any duplicates for restarutants that have been returned multiple times"
        },
        {
            "cell_type": "markdown",
            "metadata": {},
            "source": "#### Importing relevant libaraies to extract data from the Foursquare API"
        },
        {
            "cell_type": "code",
            "execution_count": 10,
            "metadata": {},
            "outputs": [
                {
                    "name": "stdout",
                    "output_type": "stream",
                    "text": "Solving environment: done\n\n## Package Plan ##\n\n  environment location: /opt/conda/envs/Python36\n\n  added / updated specs: \n    - geopy\n\n\nThe following packages will be downloaded:\n\n    package                    |            build\n    ---------------------------|-----------------\n    geopy-1.22.0               |     pyh9f0ad1d_0          63 KB  conda-forge\n    geographiclib-1.50         |             py_0          34 KB  conda-forge\n    python_abi-3.6             |          1_cp36m           4 KB  conda-forge\n    certifi-2020.4.5.1         |   py36h9f0ad1d_0         151 KB  conda-forge\n    openssl-1.1.1g             |       h516909a_0         2.1 MB  conda-forge\n    ca-certificates-2020.4.5.1 |       hecc5488_0         146 KB  conda-forge\n    ------------------------------------------------------------\n                                           Total:         2.5 MB\n\nThe following NEW packages will be INSTALLED:\n\n    geographiclib:   1.50-py_0           conda-forge\n    geopy:           1.22.0-pyh9f0ad1d_0 conda-forge\n    python_abi:      3.6-1_cp36m         conda-forge\n\nThe following packages will be UPDATED:\n\n    ca-certificates: 2020.1.1-0                      --> 2020.4.5.1-hecc5488_0     conda-forge\n    certifi:         2020.4.5.1-py36_0               --> 2020.4.5.1-py36h9f0ad1d_0 conda-forge\n    openssl:         1.1.1g-h7b6447c_0               --> 1.1.1g-h516909a_0         conda-forge\n\n\nDownloading and Extracting Packages\ngeopy-1.22.0         | 63 KB     | ##################################### | 100% \ngeographiclib-1.50   | 34 KB     | ##################################### | 100% \npython_abi-3.6       | 4 KB      | ##################################### | 100% \ncertifi-2020.4.5.1   | 151 KB    | ##################################### | 100% \nopenssl-1.1.1g       | 2.1 MB    | ##################################### | 100% \nca-certificates-2020 | 146 KB    | ##################################### | 100% \nPreparing transaction: done\nVerifying transaction: done\nExecuting transaction: done\nSolving environment: done\n\n## Package Plan ##\n\n  environment location: /opt/conda/envs/Python36\n\n  added / updated specs: \n    - folium=0.5.0\n\n\nThe following packages will be downloaded:\n\n    package                    |            build\n    ---------------------------|-----------------\n    branca-0.4.1               |             py_0          26 KB  conda-forge\n    folium-0.5.0               |             py_0          45 KB  conda-forge\n    vincent-0.4.4              |             py_1          28 KB  conda-forge\n    altair-4.1.0               |             py_1         614 KB  conda-forge\n    ------------------------------------------------------------\n                                           Total:         713 KB\n\nThe following NEW packages will be INSTALLED:\n\n    altair:  4.1.0-py_1 conda-forge\n    branca:  0.4.1-py_0 conda-forge\n    folium:  0.5.0-py_0 conda-forge\n    vincent: 0.4.4-py_1 conda-forge\n\n\nDownloading and Extracting Packages\nbranca-0.4.1         | 26 KB     | ##################################### | 100% \nfolium-0.5.0         | 45 KB     | ##################################### | 100% \nvincent-0.4.4        | 28 KB     | ##################################### | 100% \naltair-4.1.0         | 614 KB    | ##################################### | 100% \nPreparing transaction: done\nVerifying transaction: done\nExecuting transaction: done\nFolium installed\nLibraries imported.\n"
                }
            ],
            "source": "import requests # library to handle requests\nimport pandas as pd # library for data analsysis\nimport numpy as np # library to handle data in a vectorized manner\nimport random # library for random number generation\n\n!conda install -c conda-forge geopy --yes \nfrom geopy.geocoders import Nominatim # module to convert an address into latitude and longitude values\n\n# libraries for displaying images\nfrom IPython.display import Image \nfrom IPython.core.display import HTML \n    \n# tranforming json file into a pandas dataframe library\nfrom pandas.io.json import json_normalize\n\n!conda install -c conda-forge folium=0.5.0 --yes\nimport folium # plotting library\n\nprint('Folium installed')\nprint('Libraries imported.')"
        },
        {
            "cell_type": "code",
            "execution_count": 11,
            "metadata": {},
            "outputs": [
                {
                    "data": {
                        "text/html": "<img src=\"https://media.giphy.com/media/dlPvw75axg13O/giphy.gif\"/>",
                        "text/plain": "<IPython.core.display.Image object>"
                    },
                    "execution_count": 11,
                    "metadata": {},
                    "output_type": "execute_result"
                }
            ],
            "source": "LIMIT = 200\n\nfrom IPython.display import Image\nfrom IPython.core.display import HTML \nImage(url= \"https://media.giphy.com/media/dlPvw75axg13O/giphy.gif\")"
        },
        {
            "cell_type": "code",
            "execution_count": 12,
            "metadata": {},
            "outputs": [
                {
                    "name": "stdout",
                    "output_type": "stream",
                    "text": "pizza .... OK!\n"
                }
            ],
            "source": "# Constant parameters we are going to use for all Foursquare API calls\nCLIENT_ID = 'SCO35RNPJVO2211NLI20ECI3SVSCMNZUTT2SHOFPQZLIFHNO' # your Foursquare ID\nCLIENT_SECRET = 'HICE3EL4DS1CLD3CJXNNKHUANGA1Z1Y4JPZ0FOGFLXYJMLGP' # your Foursquare Secret\nVERSION = '20180604'\n\nsearch_query = 'pizza'\nradius = 5000\nprint(search_query + ' .... OK!')"
        },
        {
            "cell_type": "code",
            "execution_count": 13,
            "metadata": {},
            "outputs": [],
            "source": "# defining a function that extracts the category of the venue\ndef get_category_type(row):\n    try:\n        categories_list = row['categories']\n    except:\n        categories_list = row['venue.categories']\n        \n    if len(categories_list) == 0:\n        return None\n    else:\n        return categories_list[0]['name']"
        },
        {
            "cell_type": "markdown",
            "metadata": {},
            "source": "#### Bayview"
        },
        {
            "cell_type": "code",
            "execution_count": 14,
            "metadata": {},
            "outputs": [],
            "source": "# Bayview\nlatitude = 37.7304\nlongitude = -122.3844\nurl = 'https://api.foursquare.com/v2/venues/search?client_id={}&client_secret={}&ll={},{}&v={}&query={}&radius={}&limit={}'.format(CLIENT_ID, CLIENT_SECRET, latitude, longitude, VERSION, search_query, radius, LIMIT)"
        },
        {
            "cell_type": "code",
            "execution_count": 15,
            "metadata": {},
            "outputs": [
                {
                    "data": {
                        "text/html": "<div>\n<style scoped>\n    .dataframe tbody tr th:only-of-type {\n        vertical-align: middle;\n    }\n\n    .dataframe tbody tr th {\n        vertical-align: top;\n    }\n\n    .dataframe thead th {\n        text-align: right;\n    }\n</style>\n<table border=\"1\" class=\"dataframe\">\n  <thead>\n    <tr style=\"text-align: right;\">\n      <th></th>\n      <th>name</th>\n      <th>categories</th>\n      <th>address</th>\n      <th>cc</th>\n      <th>city</th>\n      <th>country</th>\n      <th>crossStreet</th>\n      <th>distance</th>\n      <th>formattedAddress</th>\n      <th>labeledLatLngs</th>\n      <th>lat</th>\n      <th>lng</th>\n      <th>neighborhood</th>\n      <th>postalCode</th>\n      <th>state</th>\n      <th>id</th>\n    </tr>\n  </thead>\n  <tbody>\n    <tr>\n      <th>0</th>\n      <td>Pizza Joint</td>\n      <td>Pizza Place</td>\n      <td>2414 San Bruno Ave</td>\n      <td>US</td>\n      <td>San Francisco</td>\n      <td>United States</td>\n      <td>Silver Ave</td>\n      <td>1867</td>\n      <td>[2414 San Bruno Ave (Silver Ave), San Francisc...</td>\n      <td>[{'label': 'display', 'lat': 37.73206410139971...</td>\n      <td>37.732064</td>\n      <td>-122.405506</td>\n      <td>NaN</td>\n      <td>94134</td>\n      <td>CA</td>\n      <td>4af1e518f964a52034e421e3</td>\n    </tr>\n    <tr>\n      <th>1</th>\n      <td>Cellarmaker House of Pizza</td>\n      <td>Brewery</td>\n      <td>3193 Mission St</td>\n      <td>US</td>\n      <td>San Francisco</td>\n      <td>United States</td>\n      <td>Fair St</td>\n      <td>3548</td>\n      <td>[3193 Mission St (Fair St), San Francisco, CA ...</td>\n      <td>[{'label': 'display', 'lat': 37.74573858325575...</td>\n      <td>37.745739</td>\n      <td>-122.419737</td>\n      <td>Bernal Heights</td>\n      <td>94110</td>\n      <td>CA</td>\n      <td>5c37fbb3610f04002c72e497</td>\n    </tr>\n    <tr>\n      <th>2</th>\n      <td>Round Table Pizza</td>\n      <td>Pizza Place</td>\n      <td>2660 San Bruno Ave</td>\n      <td>US</td>\n      <td>San Francisco</td>\n      <td>United States</td>\n      <td>btwn Bacon &amp; Burrows</td>\n      <td>1733</td>\n      <td>[2660 San Bruno Ave (btwn Bacon &amp; Burrows), Sa...</td>\n      <td>[{'label': 'display', 'lat': 37.72799629961786...</td>\n      <td>37.727996</td>\n      <td>-122.403855</td>\n      <td>NaN</td>\n      <td>94134</td>\n      <td>CA</td>\n      <td>4c361c282c8020a107c38600</td>\n    </tr>\n    <tr>\n      <th>3</th>\n      <td>Little Star Pizza</td>\n      <td>Pizza Place</td>\n      <td>400 Valencia St</td>\n      <td>US</td>\n      <td>San Francisco</td>\n      <td>United States</td>\n      <td>at 15th St</td>\n      <td>5205</td>\n      <td>[400 Valencia St (at 15th St), San Francisco, ...</td>\n      <td>[{'label': 'display', 'lat': 37.76643791899293...</td>\n      <td>37.766438</td>\n      <td>-122.422078</td>\n      <td>NaN</td>\n      <td>94103</td>\n      <td>CA</td>\n      <td>4537f9daf964a520c73b1fe3</td>\n    </tr>\n    <tr>\n      <th>4</th>\n      <td>Goat Hill Pizza</td>\n      <td>Pizza Place</td>\n      <td>300 Connecticut St</td>\n      <td>US</td>\n      <td>San Francisco</td>\n      <td>United States</td>\n      <td>at 18th St</td>\n      <td>3751</td>\n      <td>[300 Connecticut St (at 18th St), San Francisc...</td>\n      <td>[{'label': 'display', 'lat': 37.7624335055108,...</td>\n      <td>37.762434</td>\n      <td>-122.397654</td>\n      <td>NaN</td>\n      <td>94107</td>\n      <td>CA</td>\n      <td>413e4b80f964a520521c1fe3</td>\n    </tr>\n  </tbody>\n</table>\n</div>",
                        "text/plain": "                         name   categories             address  cc  \\\n0                 Pizza Joint  Pizza Place  2414 San Bruno Ave  US   \n1  Cellarmaker House of Pizza      Brewery     3193 Mission St  US   \n2           Round Table Pizza  Pizza Place  2660 San Bruno Ave  US   \n3           Little Star Pizza  Pizza Place     400 Valencia St  US   \n4             Goat Hill Pizza  Pizza Place  300 Connecticut St  US   \n\n            city        country           crossStreet  distance  \\\n0  San Francisco  United States            Silver Ave      1867   \n1  San Francisco  United States               Fair St      3548   \n2  San Francisco  United States  btwn Bacon & Burrows      1733   \n3  San Francisco  United States            at 15th St      5205   \n4  San Francisco  United States            at 18th St      3751   \n\n                                    formattedAddress  \\\n0  [2414 San Bruno Ave (Silver Ave), San Francisc...   \n1  [3193 Mission St (Fair St), San Francisco, CA ...   \n2  [2660 San Bruno Ave (btwn Bacon & Burrows), Sa...   \n3  [400 Valencia St (at 15th St), San Francisco, ...   \n4  [300 Connecticut St (at 18th St), San Francisc...   \n\n                                      labeledLatLngs        lat         lng  \\\n0  [{'label': 'display', 'lat': 37.73206410139971...  37.732064 -122.405506   \n1  [{'label': 'display', 'lat': 37.74573858325575...  37.745739 -122.419737   \n2  [{'label': 'display', 'lat': 37.72799629961786...  37.727996 -122.403855   \n3  [{'label': 'display', 'lat': 37.76643791899293...  37.766438 -122.422078   \n4  [{'label': 'display', 'lat': 37.7624335055108,...  37.762434 -122.397654   \n\n     neighborhood postalCode state                        id  \n0             NaN      94134    CA  4af1e518f964a52034e421e3  \n1  Bernal Heights      94110    CA  5c37fbb3610f04002c72e497  \n2             NaN      94134    CA  4c361c282c8020a107c38600  \n3             NaN      94103    CA  4537f9daf964a520c73b1fe3  \n4             NaN      94107    CA  413e4b80f964a520521c1fe3  "
                    },
                    "execution_count": 15,
                    "metadata": {},
                    "output_type": "execute_result"
                }
            ],
            "source": "results_bayview = requests.get(url).json()\n\n# assign relevant part of JSON to venues\nvenues_bayview = results_bayview['response']['venues']\n\n# tranform venues into a dataframe\ndf_bayview = json_normalize(venues_bayview)\n\n# keep only columns that include venue name, and anything that is associated with location\nfiltered_columns_bayview = ['name', 'categories'] + [col for col in df_bayview.columns if col.startswith('location.')] + ['id']\ndf_bayview_filtered = df_bayview.loc[:, filtered_columns_bayview]\n\n# filter the category for each row\ndf_bayview_filtered['categories'] = df_bayview_filtered.apply(get_category_type, axis=1)\n\n# clean column names by keeping only last term\ndf_bayview_filtered.columns = [column.split('.')[-1] for column in df_bayview_filtered.columns]\n\ndf_bayview_filtered.head(5)"
        },
        {
            "cell_type": "markdown",
            "metadata": {},
            "source": "#### Central"
        },
        {
            "cell_type": "code",
            "execution_count": 16,
            "metadata": {},
            "outputs": [],
            "source": "# Central\nlatitude = 37.7720\nlongitude = -122.4220\nurl = 'https://api.foursquare.com/v2/venues/search?client_id={}&client_secret={}&ll={},{}&v={}&query={}&radius={}&limit={}'.format(CLIENT_ID, CLIENT_SECRET, latitude, longitude, VERSION, search_query, radius, LIMIT)"
        },
        {
            "cell_type": "code",
            "execution_count": 17,
            "metadata": {},
            "outputs": [
                {
                    "data": {
                        "text/html": "<div>\n<style scoped>\n    .dataframe tbody tr th:only-of-type {\n        vertical-align: middle;\n    }\n\n    .dataframe tbody tr th {\n        vertical-align: top;\n    }\n\n    .dataframe thead th {\n        text-align: right;\n    }\n</style>\n<table border=\"1\" class=\"dataframe\">\n  <thead>\n    <tr style=\"text-align: right;\">\n      <th></th>\n      <th>name</th>\n      <th>categories</th>\n      <th>address</th>\n      <th>cc</th>\n      <th>city</th>\n      <th>country</th>\n      <th>crossStreet</th>\n      <th>distance</th>\n      <th>formattedAddress</th>\n      <th>labeledLatLngs</th>\n      <th>lat</th>\n      <th>lng</th>\n      <th>neighborhood</th>\n      <th>postalCode</th>\n      <th>state</th>\n      <th>id</th>\n    </tr>\n  </thead>\n  <tbody>\n    <tr>\n      <th>0</th>\n      <td>Little Star Pizza</td>\n      <td>Pizza Place</td>\n      <td>400 Valencia St</td>\n      <td>US</td>\n      <td>San Francisco</td>\n      <td>United States</td>\n      <td>at 15th St</td>\n      <td>619</td>\n      <td>[400 Valencia St (at 15th St), San Francisco, ...</td>\n      <td>[{'label': 'display', 'lat': 37.76643791899293...</td>\n      <td>37.766438</td>\n      <td>-122.422078</td>\n      <td>NaN</td>\n      <td>94103</td>\n      <td>CA</td>\n      <td>4537f9daf964a520c73b1fe3</td>\n    </tr>\n    <tr>\n      <th>1</th>\n      <td>Pizza Zone 'N' Grill</td>\n      <td>Pizza Place</td>\n      <td>178 Valencia St</td>\n      <td>US</td>\n      <td>San Francisco</td>\n      <td>United States</td>\n      <td>Duboce</td>\n      <td>206</td>\n      <td>[178 Valencia St (Duboce), San Francisco, CA 9...</td>\n      <td>[{'label': 'display', 'lat': 37.7701723314246,...</td>\n      <td>37.770172</td>\n      <td>-122.422390</td>\n      <td>NaN</td>\n      <td>94103</td>\n      <td>CA</td>\n      <td>4a2f4ceff964a520bf981fe3</td>\n    </tr>\n    <tr>\n      <th>2</th>\n      <td>Patxi's Chicago Pizza</td>\n      <td>Pizza Place</td>\n      <td>511 Hayes St</td>\n      <td>US</td>\n      <td>San Francisco</td>\n      <td>United States</td>\n      <td>btwn Octavia St &amp; Laguna St</td>\n      <td>567</td>\n      <td>[511 Hayes St (btwn Octavia St &amp; Laguna St), S...</td>\n      <td>[{'label': 'display', 'lat': 37.77654873335434...</td>\n      <td>37.776549</td>\n      <td>-122.424917</td>\n      <td>NaN</td>\n      <td>94102</td>\n      <td>CA</td>\n      <td>43d7e5dff964a5205d2e1fe3</td>\n    </tr>\n    <tr>\n      <th>3</th>\n      <td>Arinell Pizza</td>\n      <td>Pizza Place</td>\n      <td>509 Valencia St</td>\n      <td>US</td>\n      <td>San Francisco</td>\n      <td>United States</td>\n      <td>at 16th St.</td>\n      <td>805</td>\n      <td>[509 Valencia St (at 16th St.), San Francisco,...</td>\n      <td>[{'label': 'display', 'lat': 37.76476856685304...</td>\n      <td>37.764769</td>\n      <td>-122.421865</td>\n      <td>NaN</td>\n      <td>94110</td>\n      <td>CA</td>\n      <td>436e9900f964a520e9291fe3</td>\n    </tr>\n    <tr>\n      <th>4</th>\n      <td>Little Star Pizza</td>\n      <td>Pizza Place</td>\n      <td>846 Divisadero St</td>\n      <td>US</td>\n      <td>San Francisco</td>\n      <td>United States</td>\n      <td>btwn Mcallister St &amp; Fulton St</td>\n      <td>1557</td>\n      <td>[846 Divisadero St (btwn Mcallister St &amp; Fulto...</td>\n      <td>[{'label': 'display', 'lat': 37.77748853090511...</td>\n      <td>37.777489</td>\n      <td>-122.438281</td>\n      <td>NaN</td>\n      <td>94117</td>\n      <td>CA</td>\n      <td>433dd180f964a52048281fe3</td>\n    </tr>\n  </tbody>\n</table>\n</div>",
                        "text/plain": "                    name   categories            address  cc           city  \\\n0      Little Star Pizza  Pizza Place    400 Valencia St  US  San Francisco   \n1   Pizza Zone 'N' Grill  Pizza Place    178 Valencia St  US  San Francisco   \n2  Patxi's Chicago Pizza  Pizza Place       511 Hayes St  US  San Francisco   \n3          Arinell Pizza  Pizza Place    509 Valencia St  US  San Francisco   \n4      Little Star Pizza  Pizza Place  846 Divisadero St  US  San Francisco   \n\n         country                     crossStreet  distance  \\\n0  United States                      at 15th St       619   \n1  United States                          Duboce       206   \n2  United States     btwn Octavia St & Laguna St       567   \n3  United States                     at 16th St.       805   \n4  United States  btwn Mcallister St & Fulton St      1557   \n\n                                    formattedAddress  \\\n0  [400 Valencia St (at 15th St), San Francisco, ...   \n1  [178 Valencia St (Duboce), San Francisco, CA 9...   \n2  [511 Hayes St (btwn Octavia St & Laguna St), S...   \n3  [509 Valencia St (at 16th St.), San Francisco,...   \n4  [846 Divisadero St (btwn Mcallister St & Fulto...   \n\n                                      labeledLatLngs        lat         lng  \\\n0  [{'label': 'display', 'lat': 37.76643791899293...  37.766438 -122.422078   \n1  [{'label': 'display', 'lat': 37.7701723314246,...  37.770172 -122.422390   \n2  [{'label': 'display', 'lat': 37.77654873335434...  37.776549 -122.424917   \n3  [{'label': 'display', 'lat': 37.76476856685304...  37.764769 -122.421865   \n4  [{'label': 'display', 'lat': 37.77748853090511...  37.777489 -122.438281   \n\n  neighborhood postalCode state                        id  \n0          NaN      94103    CA  4537f9daf964a520c73b1fe3  \n1          NaN      94103    CA  4a2f4ceff964a520bf981fe3  \n2          NaN      94102    CA  43d7e5dff964a5205d2e1fe3  \n3          NaN      94110    CA  436e9900f964a520e9291fe3  \n4          NaN      94117    CA  433dd180f964a52048281fe3  "
                    },
                    "execution_count": 17,
                    "metadata": {},
                    "output_type": "execute_result"
                }
            ],
            "source": "results_central = requests.get(url).json()\n\n# assign relevant part of JSON to venues\nvenues_central = results_central['response']['venues']\n\n# tranform venues into a dataframe\ndf_central = json_normalize(venues_central)\n\n# keep only columns that include venue name, and anything that is associated with location\nfiltered_columns_central = ['name', 'categories'] + [col for col in df_central.columns if col.startswith('location.')] + ['id']\ndf_central_filtered = df_central.loc[:, filtered_columns_central]\n\n# filter the category for each row\ndf_central_filtered['categories'] = df_central_filtered.apply(get_category_type, axis=1)\n\n# clean column names by keeping only last term\ndf_central_filtered.columns = [column.split('.')[-1] for column in df_central_filtered.columns]\n\ndf_central_filtered.head(5)"
        },
        {
            "cell_type": "markdown",
            "metadata": {},
            "source": "#### Ingleside\u00a0"
        },
        {
            "cell_type": "code",
            "execution_count": 18,
            "metadata": {},
            "outputs": [],
            "source": "# Ingleside\nlatitude = 37.7198\nlongitude = -122.4538\nurl = 'https://api.foursquare.com/v2/venues/search?client_id={}&client_secret={}&ll={},{}&v={}&query={}&radius={}&limit={}'.format(CLIENT_ID, CLIENT_SECRET, latitude, longitude, VERSION, search_query, radius, LIMIT)\nresults = requests.get(url).json()"
        },
        {
            "cell_type": "code",
            "execution_count": 19,
            "metadata": {},
            "outputs": [
                {
                    "data": {
                        "text/html": "<div>\n<style scoped>\n    .dataframe tbody tr th:only-of-type {\n        vertical-align: middle;\n    }\n\n    .dataframe tbody tr th {\n        vertical-align: top;\n    }\n\n    .dataframe thead th {\n        text-align: right;\n    }\n</style>\n<table border=\"1\" class=\"dataframe\">\n  <thead>\n    <tr style=\"text-align: right;\">\n      <th></th>\n      <th>name</th>\n      <th>categories</th>\n      <th>address</th>\n      <th>cc</th>\n      <th>city</th>\n      <th>country</th>\n      <th>crossStreet</th>\n      <th>distance</th>\n      <th>formattedAddress</th>\n      <th>labeledLatLngs</th>\n      <th>lat</th>\n      <th>lng</th>\n      <th>neighborhood</th>\n      <th>postalCode</th>\n      <th>state</th>\n      <th>id</th>\n    </tr>\n  </thead>\n  <tbody>\n    <tr>\n      <th>0</th>\n      <td>Ocean Pizza</td>\n      <td>Pizza Place</td>\n      <td>1443 Ocean Ave</td>\n      <td>US</td>\n      <td>San Francisco</td>\n      <td>United States</td>\n      <td>NaN</td>\n      <td>604</td>\n      <td>[1443 Ocean Ave, San Francisco, CA 94112, Unit...</td>\n      <td>[{'label': 'display', 'lat': 37.72414391916352...</td>\n      <td>37.724144</td>\n      <td>-122.457911</td>\n      <td>NaN</td>\n      <td>94112</td>\n      <td>CA</td>\n      <td>4b3d5337f964a5206f9225e3</td>\n    </tr>\n    <tr>\n      <th>1</th>\n      <td>Little Caesars Pizza</td>\n      <td>Pizza Place</td>\n      <td>955 Geneva Ave</td>\n      <td>US</td>\n      <td>San Francisco</td>\n      <td>United States</td>\n      <td>NaN</td>\n      <td>1276</td>\n      <td>[955 Geneva Ave, San Francisco, CA 94112, Unit...</td>\n      <td>[{'label': 'display', 'lat': 37.71606164247851...</td>\n      <td>37.716062</td>\n      <td>-122.440091</td>\n      <td>NaN</td>\n      <td>94112</td>\n      <td>CA</td>\n      <td>4a37f0d0f964a520959e1fe3</td>\n    </tr>\n    <tr>\n      <th>2</th>\n      <td>Extreme Pizza</td>\n      <td>Pizza Place</td>\n      <td>3911 Alemany Blvd</td>\n      <td>US</td>\n      <td>San Francisco</td>\n      <td>United States</td>\n      <td>behind Daly City Bart</td>\n      <td>1637</td>\n      <td>[3911 Alemany Blvd (behind Daly City Bart), Sa...</td>\n      <td>[{'label': 'display', 'lat': 37.7099065879788,...</td>\n      <td>37.709907</td>\n      <td>-122.467557</td>\n      <td>NaN</td>\n      <td>94132</td>\n      <td>CA</td>\n      <td>4b0e26d9f964a520635523e3</td>\n    </tr>\n    <tr>\n      <th>3</th>\n      <td>Round Table Pizza</td>\n      <td>Pizza Place</td>\n      <td>6222 Mission St</td>\n      <td>US</td>\n      <td>Daly City</td>\n      <td>United States</td>\n      <td>NaN</td>\n      <td>1564</td>\n      <td>[6222 Mission St, Daly City, CA 94014, United ...</td>\n      <td>[{'label': 'display', 'lat': 37.70661174927863...</td>\n      <td>37.706612</td>\n      <td>-122.459925</td>\n      <td>NaN</td>\n      <td>94014</td>\n      <td>CA</td>\n      <td>4be4a79cd4f7c9b6c77c2420</td>\n    </tr>\n    <tr>\n      <th>4</th>\n      <td>Bravo's Pizza</td>\n      <td>Pizza Place</td>\n      <td>5145 Mission St</td>\n      <td>US</td>\n      <td>San Francisco</td>\n      <td>United States</td>\n      <td>Geneva</td>\n      <td>1184</td>\n      <td>[5145 Mission St (Geneva), San Francisco, CA 9...</td>\n      <td>[{'label': 'display', 'lat': 37.71658983673383...</td>\n      <td>37.716590</td>\n      <td>-122.440974</td>\n      <td>NaN</td>\n      <td>94112</td>\n      <td>CA</td>\n      <td>4b064e19f964a52094ea22e3</td>\n    </tr>\n  </tbody>\n</table>\n</div>",
                        "text/plain": "                   name   categories            address  cc           city  \\\n0           Ocean Pizza  Pizza Place     1443 Ocean Ave  US  San Francisco   \n1  Little Caesars Pizza  Pizza Place     955 Geneva Ave  US  San Francisco   \n2         Extreme Pizza  Pizza Place  3911 Alemany Blvd  US  San Francisco   \n3     Round Table Pizza  Pizza Place    6222 Mission St  US      Daly City   \n4         Bravo's Pizza  Pizza Place    5145 Mission St  US  San Francisco   \n\n         country            crossStreet  distance  \\\n0  United States                    NaN       604   \n1  United States                    NaN      1276   \n2  United States  behind Daly City Bart      1637   \n3  United States                    NaN      1564   \n4  United States                 Geneva      1184   \n\n                                    formattedAddress  \\\n0  [1443 Ocean Ave, San Francisco, CA 94112, Unit...   \n1  [955 Geneva Ave, San Francisco, CA 94112, Unit...   \n2  [3911 Alemany Blvd (behind Daly City Bart), Sa...   \n3  [6222 Mission St, Daly City, CA 94014, United ...   \n4  [5145 Mission St (Geneva), San Francisco, CA 9...   \n\n                                      labeledLatLngs        lat         lng  \\\n0  [{'label': 'display', 'lat': 37.72414391916352...  37.724144 -122.457911   \n1  [{'label': 'display', 'lat': 37.71606164247851...  37.716062 -122.440091   \n2  [{'label': 'display', 'lat': 37.7099065879788,...  37.709907 -122.467557   \n3  [{'label': 'display', 'lat': 37.70661174927863...  37.706612 -122.459925   \n4  [{'label': 'display', 'lat': 37.71658983673383...  37.716590 -122.440974   \n\n  neighborhood postalCode state                        id  \n0          NaN      94112    CA  4b3d5337f964a5206f9225e3  \n1          NaN      94112    CA  4a37f0d0f964a520959e1fe3  \n2          NaN      94132    CA  4b0e26d9f964a520635523e3  \n3          NaN      94014    CA  4be4a79cd4f7c9b6c77c2420  \n4          NaN      94112    CA  4b064e19f964a52094ea22e3  "
                    },
                    "execution_count": 19,
                    "metadata": {},
                    "output_type": "execute_result"
                }
            ],
            "source": "results_ingleside = requests.get(url).json()\n\n# assign relevant part of JSON to venues\nvenues_ingleside = results_ingleside['response']['venues']\n\n# tranform venues into a dataframe\ndf_ingleside = json_normalize(venues_ingleside)\n\n# keep only columns that include venue name, and anything that is associated with location\nfiltered_columns_ingleside = ['name', 'categories'] + [col for col in df_ingleside.columns if col.startswith('location.')] + ['id']\ndf_ingleside_filtered = df_ingleside.loc[:, filtered_columns_ingleside]\n\n# filter the category for each row\ndf_ingleside_filtered['categories'] = df_ingleside_filtered.apply(get_category_type, axis=1)\n\n# clean column names by keeping only last term\ndf_ingleside_filtered.columns = [column.split('.')[-1] for column in df_ingleside_filtered.columns]\n\ndf_ingleside_filtered.head(5)"
        },
        {
            "cell_type": "markdown",
            "metadata": {},
            "source": "#### Mission"
        },
        {
            "cell_type": "code",
            "execution_count": 20,
            "metadata": {},
            "outputs": [],
            "source": "# Mission\nlatitude = 37.7599\nlongitude = -122.4148\nurl = 'https://api.foursquare.com/v2/venues/search?client_id={}&client_secret={}&ll={},{}&v={}&query={}&radius={}&limit={}'.format(CLIENT_ID, CLIENT_SECRET, latitude, longitude, VERSION, search_query, radius, LIMIT)"
        },
        {
            "cell_type": "code",
            "execution_count": 21,
            "metadata": {},
            "outputs": [
                {
                    "data": {
                        "text/html": "<div>\n<style scoped>\n    .dataframe tbody tr th:only-of-type {\n        vertical-align: middle;\n    }\n\n    .dataframe tbody tr th {\n        vertical-align: top;\n    }\n\n    .dataframe thead th {\n        text-align: right;\n    }\n</style>\n<table border=\"1\" class=\"dataframe\">\n  <thead>\n    <tr style=\"text-align: right;\">\n      <th></th>\n      <th>name</th>\n      <th>categories</th>\n      <th>address</th>\n      <th>cc</th>\n      <th>city</th>\n      <th>country</th>\n      <th>crossStreet</th>\n      <th>distance</th>\n      <th>formattedAddress</th>\n      <th>labeledLatLngs</th>\n      <th>lat</th>\n      <th>lng</th>\n      <th>neighborhood</th>\n      <th>postalCode</th>\n      <th>state</th>\n      <th>id</th>\n    </tr>\n  </thead>\n  <tbody>\n    <tr>\n      <th>0</th>\n      <td>Little Star Pizza</td>\n      <td>Pizza Place</td>\n      <td>400 Valencia St</td>\n      <td>US</td>\n      <td>San Francisco</td>\n      <td>United States</td>\n      <td>at 15th St</td>\n      <td>969</td>\n      <td>[400 Valencia St (at 15th St), San Francisco, ...</td>\n      <td>[{'label': 'display', 'lat': 37.76643791899293...</td>\n      <td>37.766438</td>\n      <td>-122.422078</td>\n      <td>NaN</td>\n      <td>94103</td>\n      <td>CA</td>\n      <td>4537f9daf964a520c73b1fe3</td>\n    </tr>\n    <tr>\n      <th>1</th>\n      <td>Mr Pizza Man</td>\n      <td>Pizza Place</td>\n      <td>2680 22nd St</td>\n      <td>US</td>\n      <td>San Francisco</td>\n      <td>United States</td>\n      <td>at York St</td>\n      <td>741</td>\n      <td>[2680 22nd St (at York St), San Francisco, CA ...</td>\n      <td>[{'label': 'display', 'lat': 37.75642953453542...</td>\n      <td>37.756430</td>\n      <td>-122.407606</td>\n      <td>NaN</td>\n      <td>94110</td>\n      <td>CA</td>\n      <td>49d55577f964a520885c1fe3</td>\n    </tr>\n    <tr>\n      <th>2</th>\n      <td>Serrano's Pizza</td>\n      <td>Pizza Place</td>\n      <td>3274 21st St</td>\n      <td>US</td>\n      <td>San Francisco</td>\n      <td>United States</td>\n      <td>at Valencia</td>\n      <td>607</td>\n      <td>[3274 21st St (at Valencia), San Francisco, CA...</td>\n      <td>[{'label': 'display', 'lat': 37.75697068958007...</td>\n      <td>37.756971</td>\n      <td>-122.420628</td>\n      <td>NaN</td>\n      <td>94110</td>\n      <td>CA</td>\n      <td>46db1a43f964a5207f4a1fe3</td>\n    </tr>\n    <tr>\n      <th>3</th>\n      <td>Arinell Pizza</td>\n      <td>Pizza Place</td>\n      <td>509 Valencia St</td>\n      <td>US</td>\n      <td>San Francisco</td>\n      <td>United States</td>\n      <td>at 16th St.</td>\n      <td>824</td>\n      <td>[509 Valencia St (at 16th St.), San Francisco,...</td>\n      <td>[{'label': 'display', 'lat': 37.76476856685304...</td>\n      <td>37.764769</td>\n      <td>-122.421865</td>\n      <td>NaN</td>\n      <td>94110</td>\n      <td>CA</td>\n      <td>436e9900f964a520e9291fe3</td>\n    </tr>\n    <tr>\n      <th>4</th>\n      <td>Cellarmaker House of Pizza</td>\n      <td>Brewery</td>\n      <td>3193 Mission St</td>\n      <td>US</td>\n      <td>San Francisco</td>\n      <td>United States</td>\n      <td>Fair St</td>\n      <td>1635</td>\n      <td>[3193 Mission St (Fair St), San Francisco, CA ...</td>\n      <td>[{'label': 'display', 'lat': 37.74573858325575...</td>\n      <td>37.745739</td>\n      <td>-122.419737</td>\n      <td>Bernal Heights</td>\n      <td>94110</td>\n      <td>CA</td>\n      <td>5c37fbb3610f04002c72e497</td>\n    </tr>\n  </tbody>\n</table>\n</div>",
                        "text/plain": "                         name   categories          address  cc  \\\n0           Little Star Pizza  Pizza Place  400 Valencia St  US   \n1                Mr Pizza Man  Pizza Place     2680 22nd St  US   \n2             Serrano's Pizza  Pizza Place     3274 21st St  US   \n3               Arinell Pizza  Pizza Place  509 Valencia St  US   \n4  Cellarmaker House of Pizza      Brewery  3193 Mission St  US   \n\n            city        country  crossStreet  distance  \\\n0  San Francisco  United States   at 15th St       969   \n1  San Francisco  United States   at York St       741   \n2  San Francisco  United States  at Valencia       607   \n3  San Francisco  United States  at 16th St.       824   \n4  San Francisco  United States      Fair St      1635   \n\n                                    formattedAddress  \\\n0  [400 Valencia St (at 15th St), San Francisco, ...   \n1  [2680 22nd St (at York St), San Francisco, CA ...   \n2  [3274 21st St (at Valencia), San Francisco, CA...   \n3  [509 Valencia St (at 16th St.), San Francisco,...   \n4  [3193 Mission St (Fair St), San Francisco, CA ...   \n\n                                      labeledLatLngs        lat         lng  \\\n0  [{'label': 'display', 'lat': 37.76643791899293...  37.766438 -122.422078   \n1  [{'label': 'display', 'lat': 37.75642953453542...  37.756430 -122.407606   \n2  [{'label': 'display', 'lat': 37.75697068958007...  37.756971 -122.420628   \n3  [{'label': 'display', 'lat': 37.76476856685304...  37.764769 -122.421865   \n4  [{'label': 'display', 'lat': 37.74573858325575...  37.745739 -122.419737   \n\n     neighborhood postalCode state                        id  \n0             NaN      94103    CA  4537f9daf964a520c73b1fe3  \n1             NaN      94110    CA  49d55577f964a520885c1fe3  \n2             NaN      94110    CA  46db1a43f964a5207f4a1fe3  \n3             NaN      94110    CA  436e9900f964a520e9291fe3  \n4  Bernal Heights      94110    CA  5c37fbb3610f04002c72e497  "
                    },
                    "execution_count": 21,
                    "metadata": {},
                    "output_type": "execute_result"
                }
            ],
            "source": "results_mission = requests.get(url).json()\n\n# assign relevant part of JSON to venues\nvenues_mission = results_mission['response']['venues']\n\n# tranform venues into a dataframe\ndf_mission = json_normalize(venues_mission)\n\n# keep only columns that include venue name, and anything that is associated with location\nfiltered_columns_mission = ['name', 'categories'] + [col for col in df_mission.columns if col.startswith('location.')] + ['id']\ndf_mission_filtered = df_mission.loc[:, filtered_columns_mission]\n\n# filter the category for each row\ndf_mission_filtered['categories'] = df_mission_filtered.apply(get_category_type, axis=1)\n\n# clean column names by keeping only last term\ndf_mission_filtered.columns = [column.split('.')[-1] for column in df_mission_filtered.columns]\n\ndf_mission_filtered.head(5)"
        },
        {
            "cell_type": "markdown",
            "metadata": {},
            "source": "#### Northern"
        },
        {
            "cell_type": "code",
            "execution_count": 22,
            "metadata": {},
            "outputs": [],
            "source": "# Northern\nlatitude = 37.7749\nlongitude = -122.4194\nurl = 'https://api.foursquare.com/v2/venues/search?client_id={}&client_secret={}&ll={},{}&v={}&query={}&radius={}&limit={}'.format(CLIENT_ID, CLIENT_SECRET, latitude, longitude, VERSION, search_query, radius, LIMIT)"
        },
        {
            "cell_type": "code",
            "execution_count": 23,
            "metadata": {},
            "outputs": [
                {
                    "data": {
                        "text/html": "<div>\n<style scoped>\n    .dataframe tbody tr th:only-of-type {\n        vertical-align: middle;\n    }\n\n    .dataframe tbody tr th {\n        vertical-align: top;\n    }\n\n    .dataframe thead th {\n        text-align: right;\n    }\n</style>\n<table border=\"1\" class=\"dataframe\">\n  <thead>\n    <tr style=\"text-align: right;\">\n      <th></th>\n      <th>name</th>\n      <th>categories</th>\n      <th>address</th>\n      <th>cc</th>\n      <th>city</th>\n      <th>country</th>\n      <th>crossStreet</th>\n      <th>distance</th>\n      <th>formattedAddress</th>\n      <th>labeledLatLngs</th>\n      <th>lat</th>\n      <th>lng</th>\n      <th>neighborhood</th>\n      <th>postalCode</th>\n      <th>state</th>\n      <th>id</th>\n    </tr>\n  </thead>\n  <tbody>\n    <tr>\n      <th>0</th>\n      <td>Little Star Pizza</td>\n      <td>Pizza Place</td>\n      <td>400 Valencia St</td>\n      <td>US</td>\n      <td>San Francisco</td>\n      <td>United States</td>\n      <td>at 15th St</td>\n      <td>971</td>\n      <td>[400 Valencia St (at 15th St), San Francisco, ...</td>\n      <td>[{'label': 'display', 'lat': 37.76643791899293...</td>\n      <td>37.766438</td>\n      <td>-122.422078</td>\n      <td>NaN</td>\n      <td>94103</td>\n      <td>CA</td>\n      <td>4537f9daf964a520c73b1fe3</td>\n    </tr>\n    <tr>\n      <th>1</th>\n      <td>Patxi's Chicago Pizza</td>\n      <td>Pizza Place</td>\n      <td>511 Hayes St</td>\n      <td>US</td>\n      <td>San Francisco</td>\n      <td>United States</td>\n      <td>btwn Octavia St &amp; Laguna St</td>\n      <td>518</td>\n      <td>[511 Hayes St (btwn Octavia St &amp; Laguna St), S...</td>\n      <td>[{'label': 'display', 'lat': 37.77654873335434...</td>\n      <td>37.776549</td>\n      <td>-122.424917</td>\n      <td>NaN</td>\n      <td>94102</td>\n      <td>CA</td>\n      <td>43d7e5dff964a5205d2e1fe3</td>\n    </tr>\n    <tr>\n      <th>2</th>\n      <td>Chico\u2019s Pizza</td>\n      <td>Pizza Place</td>\n      <td>131 6th St</td>\n      <td>US</td>\n      <td>San Francisco</td>\n      <td>United States</td>\n      <td>btwn Howard &amp; Mission</td>\n      <td>1170</td>\n      <td>[131 6th St (btwn Howard &amp; Mission), San Franc...</td>\n      <td>[{'label': 'display', 'lat': 37.78066976185074...</td>\n      <td>37.780670</td>\n      <td>-122.408272</td>\n      <td>NaN</td>\n      <td>94103</td>\n      <td>CA</td>\n      <td>49c9a52df964a5208d581fe3</td>\n    </tr>\n    <tr>\n      <th>3</th>\n      <td>DNA Pizza</td>\n      <td>Pizza Place</td>\n      <td>371 11th St</td>\n      <td>US</td>\n      <td>San Francisco</td>\n      <td>United States</td>\n      <td>at Harrison St</td>\n      <td>723</td>\n      <td>[371 11th St (at Harrison St), San Francisco, ...</td>\n      <td>[{'label': 'display', 'lat': 37.77096728739858...</td>\n      <td>37.770967</td>\n      <td>-122.412849</td>\n      <td>NaN</td>\n      <td>94103</td>\n      <td>CA</td>\n      <td>4d7448596820ba7ac1e73cfe</td>\n    </tr>\n    <tr>\n      <th>4</th>\n      <td>Pizza Zone 'N' Grill</td>\n      <td>Pizza Place</td>\n      <td>178 Valencia St</td>\n      <td>US</td>\n      <td>San Francisco</td>\n      <td>United States</td>\n      <td>Duboce</td>\n      <td>588</td>\n      <td>[178 Valencia St (Duboce), San Francisco, CA 9...</td>\n      <td>[{'label': 'display', 'lat': 37.7701723314246,...</td>\n      <td>37.770172</td>\n      <td>-122.422390</td>\n      <td>NaN</td>\n      <td>94103</td>\n      <td>CA</td>\n      <td>4a2f4ceff964a520bf981fe3</td>\n    </tr>\n  </tbody>\n</table>\n</div>",
                        "text/plain": "                    name   categories          address  cc           city  \\\n0      Little Star Pizza  Pizza Place  400 Valencia St  US  San Francisco   \n1  Patxi's Chicago Pizza  Pizza Place     511 Hayes St  US  San Francisco   \n2          Chico\u2019s Pizza  Pizza Place       131 6th St  US  San Francisco   \n3              DNA Pizza  Pizza Place      371 11th St  US  San Francisco   \n4   Pizza Zone 'N' Grill  Pizza Place  178 Valencia St  US  San Francisco   \n\n         country                  crossStreet  distance  \\\n0  United States                   at 15th St       971   \n1  United States  btwn Octavia St & Laguna St       518   \n2  United States        btwn Howard & Mission      1170   \n3  United States               at Harrison St       723   \n4  United States                       Duboce       588   \n\n                                    formattedAddress  \\\n0  [400 Valencia St (at 15th St), San Francisco, ...   \n1  [511 Hayes St (btwn Octavia St & Laguna St), S...   \n2  [131 6th St (btwn Howard & Mission), San Franc...   \n3  [371 11th St (at Harrison St), San Francisco, ...   \n4  [178 Valencia St (Duboce), San Francisco, CA 9...   \n\n                                      labeledLatLngs        lat         lng  \\\n0  [{'label': 'display', 'lat': 37.76643791899293...  37.766438 -122.422078   \n1  [{'label': 'display', 'lat': 37.77654873335434...  37.776549 -122.424917   \n2  [{'label': 'display', 'lat': 37.78066976185074...  37.780670 -122.408272   \n3  [{'label': 'display', 'lat': 37.77096728739858...  37.770967 -122.412849   \n4  [{'label': 'display', 'lat': 37.7701723314246,...  37.770172 -122.422390   \n\n  neighborhood postalCode state                        id  \n0          NaN      94103    CA  4537f9daf964a520c73b1fe3  \n1          NaN      94102    CA  43d7e5dff964a5205d2e1fe3  \n2          NaN      94103    CA  49c9a52df964a5208d581fe3  \n3          NaN      94103    CA  4d7448596820ba7ac1e73cfe  \n4          NaN      94103    CA  4a2f4ceff964a520bf981fe3  "
                    },
                    "execution_count": 23,
                    "metadata": {},
                    "output_type": "execute_result"
                }
            ],
            "source": "results_northern = requests.get(url).json()\n\n# assign relevant part of JSON to venues\nvenues_northern = results_northern['response']['venues']\n\n# tranform venues into a dataframe\ndf_northern = json_normalize(venues_northern)\n\n# keep only columns that include venue name, and anything that is associated with location\nfiltered_columns_northern = ['name', 'categories'] + [col for col in df_northern.columns if col.startswith('location.')] + ['id']\ndf_northern_filtered = df_northern.loc[:, filtered_columns_northern]\n\n# filter the category for each row\ndf_northern_filtered['categories'] = df_northern_filtered.apply(get_category_type, axis=1)\n\n# clean column names by keeping only last term\ndf_northern_filtered.columns = [column.split('.')[-1] for column in df_northern_filtered.columns]\n\ndf_northern_filtered.head(5)"
        },
        {
            "cell_type": "markdown",
            "metadata": {},
            "source": "#### Park"
        },
        {
            "cell_type": "code",
            "execution_count": 24,
            "metadata": {},
            "outputs": [],
            "source": "# Park\nlatitude = 37.7596\nlongitude = -122.4269\nurl = 'https://api.foursquare.com/v2/venues/search?client_id={}&client_secret={}&ll={},{}&v={}&query={}&radius={}&limit={}'.format(CLIENT_ID, CLIENT_SECRET, latitude, longitude, VERSION, search_query, radius, LIMIT)"
        },
        {
            "cell_type": "code",
            "execution_count": 25,
            "metadata": {},
            "outputs": [
                {
                    "data": {
                        "text/html": "<div>\n<style scoped>\n    .dataframe tbody tr th:only-of-type {\n        vertical-align: middle;\n    }\n\n    .dataframe tbody tr th {\n        vertical-align: top;\n    }\n\n    .dataframe thead th {\n        text-align: right;\n    }\n</style>\n<table border=\"1\" class=\"dataframe\">\n  <thead>\n    <tr style=\"text-align: right;\">\n      <th></th>\n      <th>name</th>\n      <th>categories</th>\n      <th>address</th>\n      <th>cc</th>\n      <th>city</th>\n      <th>country</th>\n      <th>crossStreet</th>\n      <th>distance</th>\n      <th>formattedAddress</th>\n      <th>labeledLatLngs</th>\n      <th>lat</th>\n      <th>lng</th>\n      <th>neighborhood</th>\n      <th>postalCode</th>\n      <th>state</th>\n      <th>id</th>\n    </tr>\n  </thead>\n  <tbody>\n    <tr>\n      <th>0</th>\n      <td>Little Star Pizza</td>\n      <td>Pizza Place</td>\n      <td>400 Valencia St</td>\n      <td>US</td>\n      <td>San Francisco</td>\n      <td>United States</td>\n      <td>at 15th St</td>\n      <td>871</td>\n      <td>[400 Valencia St (at 15th St), San Francisco, ...</td>\n      <td>[{'label': 'display', 'lat': 37.76643791899293...</td>\n      <td>37.766438</td>\n      <td>-122.422078</td>\n      <td>NaN</td>\n      <td>94103</td>\n      <td>CA</td>\n      <td>4537f9daf964a520c73b1fe3</td>\n    </tr>\n    <tr>\n      <th>1</th>\n      <td>Serrano's Pizza</td>\n      <td>Pizza Place</td>\n      <td>3274 21st St</td>\n      <td>US</td>\n      <td>San Francisco</td>\n      <td>United States</td>\n      <td>at Valencia</td>\n      <td>624</td>\n      <td>[3274 21st St (at Valencia), San Francisco, CA...</td>\n      <td>[{'label': 'display', 'lat': 37.75697068958007...</td>\n      <td>37.756971</td>\n      <td>-122.420628</td>\n      <td>NaN</td>\n      <td>94110</td>\n      <td>CA</td>\n      <td>46db1a43f964a5207f4a1fe3</td>\n    </tr>\n    <tr>\n      <th>2</th>\n      <td>Patxi\u2019s Pizza</td>\n      <td>Pizza Place</td>\n      <td>4042 24th St</td>\n      <td>US</td>\n      <td>San Francisco</td>\n      <td>United States</td>\n      <td>btwn Castro &amp; Noe</td>\n      <td>1049</td>\n      <td>[4042 24th St (btwn Castro &amp; Noe), San Francis...</td>\n      <td>[{'label': 'display', 'lat': 37.75143034444472...</td>\n      <td>37.751430</td>\n      <td>-122.432856</td>\n      <td>NaN</td>\n      <td>94114</td>\n      <td>CA</td>\n      <td>4cccf2a372106dcb93d79f99</td>\n    </tr>\n    <tr>\n      <th>3</th>\n      <td>Arinell Pizza</td>\n      <td>Pizza Place</td>\n      <td>509 Valencia St</td>\n      <td>US</td>\n      <td>San Francisco</td>\n      <td>United States</td>\n      <td>at 16th St.</td>\n      <td>726</td>\n      <td>[509 Valencia St (at 16th St.), San Francisco,...</td>\n      <td>[{'label': 'display', 'lat': 37.76476856685304...</td>\n      <td>37.764769</td>\n      <td>-122.421865</td>\n      <td>NaN</td>\n      <td>94110</td>\n      <td>CA</td>\n      <td>436e9900f964a520e9291fe3</td>\n    </tr>\n    <tr>\n      <th>4</th>\n      <td>Cellarmaker House of Pizza</td>\n      <td>Brewery</td>\n      <td>3193 Mission St</td>\n      <td>US</td>\n      <td>San Francisco</td>\n      <td>United States</td>\n      <td>Fair St</td>\n      <td>1666</td>\n      <td>[3193 Mission St (Fair St), San Francisco, CA ...</td>\n      <td>[{'label': 'display', 'lat': 37.74573858325575...</td>\n      <td>37.745739</td>\n      <td>-122.419737</td>\n      <td>Bernal Heights</td>\n      <td>94110</td>\n      <td>CA</td>\n      <td>5c37fbb3610f04002c72e497</td>\n    </tr>\n  </tbody>\n</table>\n</div>",
                        "text/plain": "                         name   categories          address  cc  \\\n0           Little Star Pizza  Pizza Place  400 Valencia St  US   \n1             Serrano's Pizza  Pizza Place     3274 21st St  US   \n2               Patxi\u2019s Pizza  Pizza Place     4042 24th St  US   \n3               Arinell Pizza  Pizza Place  509 Valencia St  US   \n4  Cellarmaker House of Pizza      Brewery  3193 Mission St  US   \n\n            city        country        crossStreet  distance  \\\n0  San Francisco  United States         at 15th St       871   \n1  San Francisco  United States        at Valencia       624   \n2  San Francisco  United States  btwn Castro & Noe      1049   \n3  San Francisco  United States        at 16th St.       726   \n4  San Francisco  United States            Fair St      1666   \n\n                                    formattedAddress  \\\n0  [400 Valencia St (at 15th St), San Francisco, ...   \n1  [3274 21st St (at Valencia), San Francisco, CA...   \n2  [4042 24th St (btwn Castro & Noe), San Francis...   \n3  [509 Valencia St (at 16th St.), San Francisco,...   \n4  [3193 Mission St (Fair St), San Francisco, CA ...   \n\n                                      labeledLatLngs        lat         lng  \\\n0  [{'label': 'display', 'lat': 37.76643791899293...  37.766438 -122.422078   \n1  [{'label': 'display', 'lat': 37.75697068958007...  37.756971 -122.420628   \n2  [{'label': 'display', 'lat': 37.75143034444472...  37.751430 -122.432856   \n3  [{'label': 'display', 'lat': 37.76476856685304...  37.764769 -122.421865   \n4  [{'label': 'display', 'lat': 37.74573858325575...  37.745739 -122.419737   \n\n     neighborhood postalCode state                        id  \n0             NaN      94103    CA  4537f9daf964a520c73b1fe3  \n1             NaN      94110    CA  46db1a43f964a5207f4a1fe3  \n2             NaN      94114    CA  4cccf2a372106dcb93d79f99  \n3             NaN      94110    CA  436e9900f964a520e9291fe3  \n4  Bernal Heights      94110    CA  5c37fbb3610f04002c72e497  "
                    },
                    "execution_count": 25,
                    "metadata": {},
                    "output_type": "execute_result"
                }
            ],
            "source": "results_park = requests.get(url).json()\n\n# assign relevant part of JSON to venues\nvenues_park = results_park['response']['venues']\n\n# tranform venues into a dataframe\ndf_park = json_normalize(venues_park)\n\n# keep only columns that include venue name, and anything that is associated with location\nfiltered_columns_park = ['name', 'categories'] + [col for col in df_park.columns if col.startswith('location.')] + ['id']\ndf_park_filtered = df_park.loc[:, filtered_columns_park]\n\n# filter the category for each row\ndf_park_filtered['categories'] = df_park_filtered.apply(get_category_type, axis=1)\n\n# clean column names by keeping only last term\ndf_park_filtered.columns = [column.split('.')[-1] for column in df_park_filtered.columns]\n\ndf_park_filtered.head(5)"
        },
        {
            "cell_type": "markdown",
            "metadata": {},
            "source": "#### Richmond"
        },
        {
            "cell_type": "code",
            "execution_count": 26,
            "metadata": {},
            "outputs": [],
            "source": "# Richmond\nlatitude = 37.7797\nlongitude = -122.4829\nurl = 'https://api.foursquare.com/v2/venues/search?client_id={}&client_secret={}&ll={},{}&v={}&query={}&radius={}&limit={}'.format(CLIENT_ID, CLIENT_SECRET, latitude, longitude, VERSION, search_query, radius, LIMIT)"
        },
        {
            "cell_type": "code",
            "execution_count": 27,
            "metadata": {},
            "outputs": [
                {
                    "data": {
                        "text/html": "<div>\n<style scoped>\n    .dataframe tbody tr th:only-of-type {\n        vertical-align: middle;\n    }\n\n    .dataframe tbody tr th {\n        vertical-align: top;\n    }\n\n    .dataframe thead th {\n        text-align: right;\n    }\n</style>\n<table border=\"1\" class=\"dataframe\">\n  <thead>\n    <tr style=\"text-align: right;\">\n      <th></th>\n      <th>name</th>\n      <th>categories</th>\n      <th>address</th>\n      <th>cc</th>\n      <th>city</th>\n      <th>country</th>\n      <th>crossStreet</th>\n      <th>distance</th>\n      <th>formattedAddress</th>\n      <th>labeledLatLngs</th>\n      <th>lat</th>\n      <th>lng</th>\n      <th>neighborhood</th>\n      <th>postalCode</th>\n      <th>state</th>\n      <th>id</th>\n    </tr>\n  </thead>\n  <tbody>\n    <tr>\n      <th>0</th>\n      <td>Gaspare's Pizza</td>\n      <td>Pizza Place</td>\n      <td>5546 Geary Blvd</td>\n      <td>US</td>\n      <td>San Francisco</td>\n      <td>United States</td>\n      <td>at 19th Ave.</td>\n      <td>336</td>\n      <td>[5546 Geary Blvd (at 19th Ave.), San Francisco...</td>\n      <td>[{'label': 'display', 'lat': 37.78044976362707...</td>\n      <td>37.780450</td>\n      <td>-122.479201</td>\n      <td>NaN</td>\n      <td>94121</td>\n      <td>CA</td>\n      <td>4a63e6e4f964a520fcc51fe3</td>\n    </tr>\n    <tr>\n      <th>1</th>\n      <td>Pizza City</td>\n      <td>Pizza Place</td>\n      <td>6905 Geary Blvd</td>\n      <td>US</td>\n      <td>San Francisco</td>\n      <td>United States</td>\n      <td>33rd avenue</td>\n      <td>949</td>\n      <td>[6905 Geary Blvd (33rd avenue), San Francisco,...</td>\n      <td>[{'label': 'display', 'lat': 37.77943300000000...</td>\n      <td>37.779433</td>\n      <td>-122.493683</td>\n      <td>NaN</td>\n      <td>94121</td>\n      <td>CA</td>\n      <td>4b689236f964a52085802be3</td>\n    </tr>\n    <tr>\n      <th>2</th>\n      <td>Pasquale's Pizza</td>\n      <td>Pizza Place</td>\n      <td>700 Irving St</td>\n      <td>US</td>\n      <td>San Francisco</td>\n      <td>United States</td>\n      <td>at 8th Ave</td>\n      <td>2311</td>\n      <td>[700 Irving St (at 8th Ave), San Francisco, CA...</td>\n      <td>[{'label': 'display', 'lat': 37.76418726305658...</td>\n      <td>37.764187</td>\n      <td>-122.465436</td>\n      <td>NaN</td>\n      <td>94122</td>\n      <td>CA</td>\n      <td>3fd66200f964a5202af11ee3</td>\n    </tr>\n    <tr>\n      <th>3</th>\n      <td>Patxi's Pizza</td>\n      <td>Pizza Place</td>\n      <td>822 Irving St</td>\n      <td>US</td>\n      <td>San Francisco</td>\n      <td>United States</td>\n      <td>Btw 9th &amp; 10th</td>\n      <td>2245</td>\n      <td>[822 Irving St (Btw 9th &amp; 10th), San Francisco...</td>\n      <td>[{'label': 'display', 'lat': 37.76407016725625...</td>\n      <td>37.764070</td>\n      <td>-122.466775</td>\n      <td>NaN</td>\n      <td>94122</td>\n      <td>CA</td>\n      <td>4e9b118202d5df1b507dc9d0</td>\n    </tr>\n    <tr>\n      <th>4</th>\n      <td>Victoria's New York Pizza</td>\n      <td>Pizza Place</td>\n      <td>3605 Balboa St</td>\n      <td>US</td>\n      <td>San Francisco</td>\n      <td>United States</td>\n      <td>at 37th Ave.</td>\n      <td>1366</td>\n      <td>[3605 Balboa St (at 37th Ave.), San Francisco,...</td>\n      <td>[{'label': 'display', 'lat': 37.77453107196334...</td>\n      <td>37.774531</td>\n      <td>-122.496992</td>\n      <td>NaN</td>\n      <td>94121</td>\n      <td>CA</td>\n      <td>4b1b383bf964a520c4f923e3</td>\n    </tr>\n  </tbody>\n</table>\n</div>",
                        "text/plain": "                        name   categories          address  cc           city  \\\n0            Gaspare's Pizza  Pizza Place  5546 Geary Blvd  US  San Francisco   \n1                 Pizza City  Pizza Place  6905 Geary Blvd  US  San Francisco   \n2           Pasquale's Pizza  Pizza Place    700 Irving St  US  San Francisco   \n3              Patxi's Pizza  Pizza Place    822 Irving St  US  San Francisco   \n4  Victoria's New York Pizza  Pizza Place   3605 Balboa St  US  San Francisco   \n\n         country     crossStreet  distance  \\\n0  United States    at 19th Ave.       336   \n1  United States     33rd avenue       949   \n2  United States      at 8th Ave      2311   \n3  United States  Btw 9th & 10th      2245   \n4  United States    at 37th Ave.      1366   \n\n                                    formattedAddress  \\\n0  [5546 Geary Blvd (at 19th Ave.), San Francisco...   \n1  [6905 Geary Blvd (33rd avenue), San Francisco,...   \n2  [700 Irving St (at 8th Ave), San Francisco, CA...   \n3  [822 Irving St (Btw 9th & 10th), San Francisco...   \n4  [3605 Balboa St (at 37th Ave.), San Francisco,...   \n\n                                      labeledLatLngs        lat         lng  \\\n0  [{'label': 'display', 'lat': 37.78044976362707...  37.780450 -122.479201   \n1  [{'label': 'display', 'lat': 37.77943300000000...  37.779433 -122.493683   \n2  [{'label': 'display', 'lat': 37.76418726305658...  37.764187 -122.465436   \n3  [{'label': 'display', 'lat': 37.76407016725625...  37.764070 -122.466775   \n4  [{'label': 'display', 'lat': 37.77453107196334...  37.774531 -122.496992   \n\n  neighborhood postalCode state                        id  \n0          NaN      94121    CA  4a63e6e4f964a520fcc51fe3  \n1          NaN      94121    CA  4b689236f964a52085802be3  \n2          NaN      94122    CA  3fd66200f964a5202af11ee3  \n3          NaN      94122    CA  4e9b118202d5df1b507dc9d0  \n4          NaN      94121    CA  4b1b383bf964a520c4f923e3  "
                    },
                    "execution_count": 27,
                    "metadata": {},
                    "output_type": "execute_result"
                }
            ],
            "source": "results_richmond = requests.get(url).json()\n\n# assign relevant part of JSON to venues\nvenues_richmond = results_richmond['response']['venues']\n\n# tranform venues into a dataframe\ndf_richmond = json_normalize(venues_richmond)\n\n# keep only columns that include venue name, and anything that is associated with location\nfiltered_columns_richmond = ['name', 'categories'] + [col for col in df_richmond.columns if col.startswith('location.')] + ['id']\ndf_richmond_filtered = df_richmond.loc[:, filtered_columns_richmond]\n\n# filter the category for each row\ndf_richmond_filtered['categories'] = df_richmond_filtered.apply(get_category_type, axis=1)\n\n# clean column names by keeping only last term\ndf_richmond_filtered.columns = [column.split('.')[-1] for column in df_richmond_filtered.columns]\n\ndf_richmond_filtered.head(5)"
        },
        {
            "cell_type": "markdown",
            "metadata": {},
            "source": "#### Southern"
        },
        {
            "cell_type": "code",
            "execution_count": 28,
            "metadata": {},
            "outputs": [],
            "source": "# Southern\nlatitude = 37.6547\nlongitude = -122.4078\nurl = 'https://api.foursquare.com/v2/venues/search?client_id={}&client_secret={}&ll={},{}&v={}&query={}&radius={}&limit={}'.format(CLIENT_ID, CLIENT_SECRET, latitude, longitude, VERSION, search_query, radius, LIMIT)"
        },
        {
            "cell_type": "code",
            "execution_count": 29,
            "metadata": {
                "scrolled": true
            },
            "outputs": [
                {
                    "data": {
                        "text/html": "<div>\n<style scoped>\n    .dataframe tbody tr th:only-of-type {\n        vertical-align: middle;\n    }\n\n    .dataframe tbody tr th {\n        vertical-align: top;\n    }\n\n    .dataframe thead th {\n        text-align: right;\n    }\n</style>\n<table border=\"1\" class=\"dataframe\">\n  <thead>\n    <tr style=\"text-align: right;\">\n      <th></th>\n      <th>name</th>\n      <th>categories</th>\n      <th>address</th>\n      <th>cc</th>\n      <th>city</th>\n      <th>country</th>\n      <th>crossStreet</th>\n      <th>distance</th>\n      <th>formattedAddress</th>\n      <th>labeledLatLngs</th>\n      <th>lat</th>\n      <th>lng</th>\n      <th>postalCode</th>\n      <th>state</th>\n      <th>id</th>\n    </tr>\n  </thead>\n  <tbody>\n    <tr>\n      <th>0</th>\n      <td>Cecilia's Pizza &amp; Italian Restaurant</td>\n      <td>Pizza Place</td>\n      <td>113 Grand Ave</td>\n      <td>US</td>\n      <td>South San Francisco</td>\n      <td>United States</td>\n      <td>NaN</td>\n      <td>65</td>\n      <td>[113 Grand Ave, South San Francisco, CA 94080,...</td>\n      <td>[{'label': 'display', 'lat': 37.654567, 'lng':...</td>\n      <td>37.654567</td>\n      <td>-122.408529</td>\n      <td>94080</td>\n      <td>CA</td>\n      <td>4c18312e1436a59377118d75</td>\n    </tr>\n    <tr>\n      <th>1</th>\n      <td>Bravo Pizza</td>\n      <td>Pizza Place</td>\n      <td>334 Grand Ave</td>\n      <td>US</td>\n      <td>South San Francisco</td>\n      <td>United States</td>\n      <td>NaN</td>\n      <td>273</td>\n      <td>[334 Grand Ave, South San Francisco, CA 94080,...</td>\n      <td>[{'label': 'display', 'lat': 37.655595, 'lng':...</td>\n      <td>37.655595</td>\n      <td>-122.410696</td>\n      <td>94080</td>\n      <td>CA</td>\n      <td>4426e5f1f964a520b2311fe3</td>\n    </tr>\n    <tr>\n      <th>2</th>\n      <td>Seniore's Pizza</td>\n      <td>Pizza Place</td>\n      <td>730 Kains Ave</td>\n      <td>US</td>\n      <td>San Bruno</td>\n      <td>United States</td>\n      <td>at Camino Plz</td>\n      <td>3148</td>\n      <td>[730 Kains Ave (at Camino Plz), San Bruno, CA ...</td>\n      <td>[{'label': 'display', 'lat': 37.62726305960847...</td>\n      <td>37.627263</td>\n      <td>-122.416454</td>\n      <td>94066</td>\n      <td>CA</td>\n      <td>5611e2e2498e55bb5430abbb</td>\n    </tr>\n    <tr>\n      <th>3</th>\n      <td>Papa Joe's Pizza / Mexican</td>\n      <td>Pizza Place</td>\n      <td>415 Linden Ave</td>\n      <td>US</td>\n      <td>South San Francisco</td>\n      <td>United States</td>\n      <td>NaN</td>\n      <td>558</td>\n      <td>[415 Linden Ave, South San Francisco, CA 94080...</td>\n      <td>[{'label': 'display', 'lat': 37.64986918699188...</td>\n      <td>37.649869</td>\n      <td>-122.406085</td>\n      <td>94080</td>\n      <td>CA</td>\n      <td>4f08d961e4b071c575fa9ad9</td>\n    </tr>\n    <tr>\n      <th>4</th>\n      <td>Pie Five Pizza</td>\n      <td>Pizza Place</td>\n      <td>Terminal 3</td>\n      <td>US</td>\n      <td>San Francisco</td>\n      <td>United States</td>\n      <td>SFO Airport</td>\n      <td>4229</td>\n      <td>[Terminal 3 (SFO Airport), San Francisco, CA 9...</td>\n      <td>[{'label': 'display', 'lat': 37.62007865903975...</td>\n      <td>37.620079</td>\n      <td>-122.388038</td>\n      <td>94128</td>\n      <td>CA</td>\n      <td>5afb9de0ff0306002c760138</td>\n    </tr>\n  </tbody>\n</table>\n</div>",
                        "text/plain": "                                   name   categories         address  cc  \\\n0  Cecilia's Pizza & Italian Restaurant  Pizza Place   113 Grand Ave  US   \n1                           Bravo Pizza  Pizza Place   334 Grand Ave  US   \n2                       Seniore's Pizza  Pizza Place   730 Kains Ave  US   \n3            Papa Joe's Pizza / Mexican  Pizza Place  415 Linden Ave  US   \n4                        Pie Five Pizza  Pizza Place      Terminal 3  US   \n\n                  city        country    crossStreet  distance  \\\n0  South San Francisco  United States            NaN        65   \n1  South San Francisco  United States            NaN       273   \n2            San Bruno  United States  at Camino Plz      3148   \n3  South San Francisco  United States            NaN       558   \n4        San Francisco  United States    SFO Airport      4229   \n\n                                    formattedAddress  \\\n0  [113 Grand Ave, South San Francisco, CA 94080,...   \n1  [334 Grand Ave, South San Francisco, CA 94080,...   \n2  [730 Kains Ave (at Camino Plz), San Bruno, CA ...   \n3  [415 Linden Ave, South San Francisco, CA 94080...   \n4  [Terminal 3 (SFO Airport), San Francisco, CA 9...   \n\n                                      labeledLatLngs        lat         lng  \\\n0  [{'label': 'display', 'lat': 37.654567, 'lng':...  37.654567 -122.408529   \n1  [{'label': 'display', 'lat': 37.655595, 'lng':...  37.655595 -122.410696   \n2  [{'label': 'display', 'lat': 37.62726305960847...  37.627263 -122.416454   \n3  [{'label': 'display', 'lat': 37.64986918699188...  37.649869 -122.406085   \n4  [{'label': 'display', 'lat': 37.62007865903975...  37.620079 -122.388038   \n\n  postalCode state                        id  \n0      94080    CA  4c18312e1436a59377118d75  \n1      94080    CA  4426e5f1f964a520b2311fe3  \n2      94066    CA  5611e2e2498e55bb5430abbb  \n3      94080    CA  4f08d961e4b071c575fa9ad9  \n4      94128    CA  5afb9de0ff0306002c760138  "
                    },
                    "execution_count": 29,
                    "metadata": {},
                    "output_type": "execute_result"
                }
            ],
            "source": "results_southern = requests.get(url).json()\n\n# assign relevant part of JSON to venues\nvenues_southern = results_southern['response']['venues']\n\n# tranform venues into a dataframe\ndf_southern = json_normalize(venues_southern)\n\n# keep only columns that include venue name, and anything that is associated with location\nfiltered_columns_southern = ['name', 'categories'] + [col for col in df_southern.columns if col.startswith('location.')] + ['id']\ndf_southern_filtered = df_southern.loc[:, filtered_columns_southern]\n\n# filter the category for each row\ndf_southern_filtered['categories'] = df_southern_filtered.apply(get_category_type, axis=1)\n\n# clean column names by keeping only last term\ndf_southern_filtered.columns = [column.split('.')[-1] for column in df_southern_filtered.columns]\n\ndf_southern_filtered.head(5)"
        },
        {
            "cell_type": "markdown",
            "metadata": {},
            "source": "#### Taraval"
        },
        {
            "cell_type": "code",
            "execution_count": 30,
            "metadata": {},
            "outputs": [],
            "source": "# Taraval\nlatitude = 37.7739\nlongitude = -122.4313\nurl = 'https://api.foursquare.com/v2/venues/search?client_id={}&client_secret={}&ll={},{}&v={}&query={}&radius={}&limit={}'.format(CLIENT_ID, CLIENT_SECRET, latitude, longitude, VERSION, search_query, radius, LIMIT)"
        },
        {
            "cell_type": "code",
            "execution_count": 31,
            "metadata": {},
            "outputs": [
                {
                    "data": {
                        "text/html": "<div>\n<style scoped>\n    .dataframe tbody tr th:only-of-type {\n        vertical-align: middle;\n    }\n\n    .dataframe tbody tr th {\n        vertical-align: top;\n    }\n\n    .dataframe thead th {\n        text-align: right;\n    }\n</style>\n<table border=\"1\" class=\"dataframe\">\n  <thead>\n    <tr style=\"text-align: right;\">\n      <th></th>\n      <th>name</th>\n      <th>categories</th>\n      <th>address</th>\n      <th>cc</th>\n      <th>city</th>\n      <th>country</th>\n      <th>crossStreet</th>\n      <th>distance</th>\n      <th>formattedAddress</th>\n      <th>labeledLatLngs</th>\n      <th>lat</th>\n      <th>lng</th>\n      <th>neighborhood</th>\n      <th>postalCode</th>\n      <th>state</th>\n      <th>id</th>\n    </tr>\n  </thead>\n  <tbody>\n    <tr>\n      <th>0</th>\n      <td>Little Star Pizza</td>\n      <td>Pizza Place</td>\n      <td>846 Divisadero St</td>\n      <td>US</td>\n      <td>San Francisco</td>\n      <td>United States</td>\n      <td>btwn Mcallister St &amp; Fulton St</td>\n      <td>732</td>\n      <td>[846 Divisadero St (btwn Mcallister St &amp; Fulto...</td>\n      <td>[{'label': 'display', 'lat': 37.77748853090511...</td>\n      <td>37.777489</td>\n      <td>-122.438281</td>\n      <td>NaN</td>\n      <td>94117</td>\n      <td>CA</td>\n      <td>433dd180f964a52048281fe3</td>\n    </tr>\n    <tr>\n      <th>1</th>\n      <td>Little Star Pizza</td>\n      <td>Pizza Place</td>\n      <td>400 Valencia St</td>\n      <td>US</td>\n      <td>San Francisco</td>\n      <td>United States</td>\n      <td>at 15th St</td>\n      <td>1161</td>\n      <td>[400 Valencia St (at 15th St), San Francisco, ...</td>\n      <td>[{'label': 'display', 'lat': 37.76643791899293...</td>\n      <td>37.766438</td>\n      <td>-122.422078</td>\n      <td>NaN</td>\n      <td>94103</td>\n      <td>CA</td>\n      <td>4537f9daf964a520c73b1fe3</td>\n    </tr>\n    <tr>\n      <th>2</th>\n      <td>Mythic Pizza</td>\n      <td>Pizza Place</td>\n      <td>551 Haight St</td>\n      <td>US</td>\n      <td>San Francisco</td>\n      <td>United States</td>\n      <td>btwn Steiner &amp; Fillmore St.</td>\n      <td>214</td>\n      <td>[551 Haight St (btwn Steiner &amp; Fillmore St.), ...</td>\n      <td>[{'label': 'display', 'lat': 37.77197428503029...</td>\n      <td>37.771974</td>\n      <td>-122.431284</td>\n      <td>NaN</td>\n      <td>94117</td>\n      <td>CA</td>\n      <td>44c6a6f9f964a520df351fe3</td>\n    </tr>\n    <tr>\n      <th>3</th>\n      <td>Patxi's Chicago Pizza</td>\n      <td>Pizza Place</td>\n      <td>511 Hayes St</td>\n      <td>US</td>\n      <td>San Francisco</td>\n      <td>United States</td>\n      <td>btwn Octavia St &amp; Laguna St</td>\n      <td>634</td>\n      <td>[511 Hayes St (btwn Octavia St &amp; Laguna St), S...</td>\n      <td>[{'label': 'display', 'lat': 37.77654873335434...</td>\n      <td>37.776549</td>\n      <td>-122.424917</td>\n      <td>NaN</td>\n      <td>94102</td>\n      <td>CA</td>\n      <td>43d7e5dff964a5205d2e1fe3</td>\n    </tr>\n    <tr>\n      <th>4</th>\n      <td>Bus Stop Pizza</td>\n      <td>Pizza Place</td>\n      <td>256 Divisadero St</td>\n      <td>US</td>\n      <td>San Francisco</td>\n      <td>United States</td>\n      <td>Haight St</td>\n      <td>577</td>\n      <td>[256 Divisadero St (Haight St), San Francisco,...</td>\n      <td>[{'label': 'display', 'lat': 37.77149682287828...</td>\n      <td>37.771497</td>\n      <td>-122.437113</td>\n      <td>NaN</td>\n      <td>94117</td>\n      <td>CA</td>\n      <td>49f48658f964a520146b1fe3</td>\n    </tr>\n  </tbody>\n</table>\n</div>",
                        "text/plain": "                    name   categories            address  cc           city  \\\n0      Little Star Pizza  Pizza Place  846 Divisadero St  US  San Francisco   \n1      Little Star Pizza  Pizza Place    400 Valencia St  US  San Francisco   \n2           Mythic Pizza  Pizza Place      551 Haight St  US  San Francisco   \n3  Patxi's Chicago Pizza  Pizza Place       511 Hayes St  US  San Francisco   \n4         Bus Stop Pizza  Pizza Place  256 Divisadero St  US  San Francisco   \n\n         country                     crossStreet  distance  \\\n0  United States  btwn Mcallister St & Fulton St       732   \n1  United States                      at 15th St      1161   \n2  United States     btwn Steiner & Fillmore St.       214   \n3  United States     btwn Octavia St & Laguna St       634   \n4  United States                       Haight St       577   \n\n                                    formattedAddress  \\\n0  [846 Divisadero St (btwn Mcallister St & Fulto...   \n1  [400 Valencia St (at 15th St), San Francisco, ...   \n2  [551 Haight St (btwn Steiner & Fillmore St.), ...   \n3  [511 Hayes St (btwn Octavia St & Laguna St), S...   \n4  [256 Divisadero St (Haight St), San Francisco,...   \n\n                                      labeledLatLngs        lat         lng  \\\n0  [{'label': 'display', 'lat': 37.77748853090511...  37.777489 -122.438281   \n1  [{'label': 'display', 'lat': 37.76643791899293...  37.766438 -122.422078   \n2  [{'label': 'display', 'lat': 37.77197428503029...  37.771974 -122.431284   \n3  [{'label': 'display', 'lat': 37.77654873335434...  37.776549 -122.424917   \n4  [{'label': 'display', 'lat': 37.77149682287828...  37.771497 -122.437113   \n\n  neighborhood postalCode state                        id  \n0          NaN      94117    CA  433dd180f964a52048281fe3  \n1          NaN      94103    CA  4537f9daf964a520c73b1fe3  \n2          NaN      94117    CA  44c6a6f9f964a520df351fe3  \n3          NaN      94102    CA  43d7e5dff964a5205d2e1fe3  \n4          NaN      94117    CA  49f48658f964a520146b1fe3  "
                    },
                    "execution_count": 31,
                    "metadata": {},
                    "output_type": "execute_result"
                }
            ],
            "source": "results_taraval = requests.get(url).json()\n\n# assign relevant part of JSON to venues\nvenues_taraval = results_taraval['response']['venues']\n\n# tranform venues into a dataframe\ndf_taraval = json_normalize(venues_taraval)\n\n# keep only columns that include venue name, and anything that is associated with location\nfiltered_columns_taraval = ['name', 'categories'] + [col for col in df_taraval.columns if col.startswith('location.')] + ['id']\ndf_taraval_filtered = df_taraval.loc[:, filtered_columns_taraval]\n\n# filter the category for each row\ndf_taraval_filtered['categories'] = df_taraval_filtered.apply(get_category_type, axis=1)\n\n# clean column names by keeping only last term\ndf_taraval_filtered.columns = [column.split('.')[-1] for column in df_taraval_filtered.columns]\n\ndf_taraval_filtered.head(5)"
        },
        {
            "cell_type": "markdown",
            "metadata": {},
            "source": "#### Tenderloin"
        },
        {
            "cell_type": "code",
            "execution_count": 32,
            "metadata": {},
            "outputs": [],
            "source": "# Tenderloin\nlatitude = 37.7304\nlongitude = -122.3844\nurl = 'https://api.foursquare.com/v2/venues/search?client_id={}&client_secret={}&ll={},{}&v={}&query={}&radius={}&limit={}'.format(CLIENT_ID, CLIENT_SECRET, latitude, longitude, VERSION, search_query, radius, LIMIT)"
        },
        {
            "cell_type": "code",
            "execution_count": 33,
            "metadata": {},
            "outputs": [
                {
                    "data": {
                        "text/html": "<div>\n<style scoped>\n    .dataframe tbody tr th:only-of-type {\n        vertical-align: middle;\n    }\n\n    .dataframe tbody tr th {\n        vertical-align: top;\n    }\n\n    .dataframe thead th {\n        text-align: right;\n    }\n</style>\n<table border=\"1\" class=\"dataframe\">\n  <thead>\n    <tr style=\"text-align: right;\">\n      <th></th>\n      <th>name</th>\n      <th>categories</th>\n      <th>address</th>\n      <th>cc</th>\n      <th>city</th>\n      <th>country</th>\n      <th>crossStreet</th>\n      <th>distance</th>\n      <th>formattedAddress</th>\n      <th>labeledLatLngs</th>\n      <th>lat</th>\n      <th>lng</th>\n      <th>neighborhood</th>\n      <th>postalCode</th>\n      <th>state</th>\n      <th>id</th>\n    </tr>\n  </thead>\n  <tbody>\n    <tr>\n      <th>0</th>\n      <td>Pizza Joint</td>\n      <td>Pizza Place</td>\n      <td>2414 San Bruno Ave</td>\n      <td>US</td>\n      <td>San Francisco</td>\n      <td>United States</td>\n      <td>Silver Ave</td>\n      <td>1867</td>\n      <td>[2414 San Bruno Ave (Silver Ave), San Francisc...</td>\n      <td>[{'label': 'display', 'lat': 37.73206410139971...</td>\n      <td>37.732064</td>\n      <td>-122.405506</td>\n      <td>NaN</td>\n      <td>94134</td>\n      <td>CA</td>\n      <td>4af1e518f964a52034e421e3</td>\n    </tr>\n    <tr>\n      <th>1</th>\n      <td>Cellarmaker House of Pizza</td>\n      <td>Brewery</td>\n      <td>3193 Mission St</td>\n      <td>US</td>\n      <td>San Francisco</td>\n      <td>United States</td>\n      <td>Fair St</td>\n      <td>3548</td>\n      <td>[3193 Mission St (Fair St), San Francisco, CA ...</td>\n      <td>[{'label': 'display', 'lat': 37.74573858325575...</td>\n      <td>37.745739</td>\n      <td>-122.419737</td>\n      <td>Bernal Heights</td>\n      <td>94110</td>\n      <td>CA</td>\n      <td>5c37fbb3610f04002c72e497</td>\n    </tr>\n    <tr>\n      <th>2</th>\n      <td>Round Table Pizza</td>\n      <td>Pizza Place</td>\n      <td>2660 San Bruno Ave</td>\n      <td>US</td>\n      <td>San Francisco</td>\n      <td>United States</td>\n      <td>btwn Bacon &amp; Burrows</td>\n      <td>1733</td>\n      <td>[2660 San Bruno Ave (btwn Bacon &amp; Burrows), Sa...</td>\n      <td>[{'label': 'display', 'lat': 37.72799629961786...</td>\n      <td>37.727996</td>\n      <td>-122.403855</td>\n      <td>NaN</td>\n      <td>94134</td>\n      <td>CA</td>\n      <td>4c361c282c8020a107c38600</td>\n    </tr>\n    <tr>\n      <th>3</th>\n      <td>Little Star Pizza</td>\n      <td>Pizza Place</td>\n      <td>400 Valencia St</td>\n      <td>US</td>\n      <td>San Francisco</td>\n      <td>United States</td>\n      <td>at 15th St</td>\n      <td>5205</td>\n      <td>[400 Valencia St (at 15th St), San Francisco, ...</td>\n      <td>[{'label': 'display', 'lat': 37.76643791899293...</td>\n      <td>37.766438</td>\n      <td>-122.422078</td>\n      <td>NaN</td>\n      <td>94103</td>\n      <td>CA</td>\n      <td>4537f9daf964a520c73b1fe3</td>\n    </tr>\n    <tr>\n      <th>4</th>\n      <td>Goat Hill Pizza</td>\n      <td>Pizza Place</td>\n      <td>300 Connecticut St</td>\n      <td>US</td>\n      <td>San Francisco</td>\n      <td>United States</td>\n      <td>at 18th St</td>\n      <td>3751</td>\n      <td>[300 Connecticut St (at 18th St), San Francisc...</td>\n      <td>[{'label': 'display', 'lat': 37.7624335055108,...</td>\n      <td>37.762434</td>\n      <td>-122.397654</td>\n      <td>NaN</td>\n      <td>94107</td>\n      <td>CA</td>\n      <td>413e4b80f964a520521c1fe3</td>\n    </tr>\n  </tbody>\n</table>\n</div>",
                        "text/plain": "                         name   categories             address  cc  \\\n0                 Pizza Joint  Pizza Place  2414 San Bruno Ave  US   \n1  Cellarmaker House of Pizza      Brewery     3193 Mission St  US   \n2           Round Table Pizza  Pizza Place  2660 San Bruno Ave  US   \n3           Little Star Pizza  Pizza Place     400 Valencia St  US   \n4             Goat Hill Pizza  Pizza Place  300 Connecticut St  US   \n\n            city        country           crossStreet  distance  \\\n0  San Francisco  United States            Silver Ave      1867   \n1  San Francisco  United States               Fair St      3548   \n2  San Francisco  United States  btwn Bacon & Burrows      1733   \n3  San Francisco  United States            at 15th St      5205   \n4  San Francisco  United States            at 18th St      3751   \n\n                                    formattedAddress  \\\n0  [2414 San Bruno Ave (Silver Ave), San Francisc...   \n1  [3193 Mission St (Fair St), San Francisco, CA ...   \n2  [2660 San Bruno Ave (btwn Bacon & Burrows), Sa...   \n3  [400 Valencia St (at 15th St), San Francisco, ...   \n4  [300 Connecticut St (at 18th St), San Francisc...   \n\n                                      labeledLatLngs        lat         lng  \\\n0  [{'label': 'display', 'lat': 37.73206410139971...  37.732064 -122.405506   \n1  [{'label': 'display', 'lat': 37.74573858325575...  37.745739 -122.419737   \n2  [{'label': 'display', 'lat': 37.72799629961786...  37.727996 -122.403855   \n3  [{'label': 'display', 'lat': 37.76643791899293...  37.766438 -122.422078   \n4  [{'label': 'display', 'lat': 37.7624335055108,...  37.762434 -122.397654   \n\n     neighborhood postalCode state                        id  \n0             NaN      94134    CA  4af1e518f964a52034e421e3  \n1  Bernal Heights      94110    CA  5c37fbb3610f04002c72e497  \n2             NaN      94134    CA  4c361c282c8020a107c38600  \n3             NaN      94103    CA  4537f9daf964a520c73b1fe3  \n4             NaN      94107    CA  413e4b80f964a520521c1fe3  "
                    },
                    "execution_count": 33,
                    "metadata": {},
                    "output_type": "execute_result"
                }
            ],
            "source": "results_tenderloin = requests.get(url).json()\n\n# assign relevant part of JSON to venues\nvenues_tenderloin = results_tenderloin['response']['venues']\n\n# tranform venues into a dataframe\ndf_tenderloin = json_normalize(venues_tenderloin)\n\n# keep only columns that include venue name, and anything that is associated with location\nfiltered_columns_tenderloin = ['name', 'categories'] + [col for col in df_tenderloin.columns if col.startswith('location.')] + ['id']\ndf_tenderloin_filtered = df_tenderloin.loc[:, filtered_columns_tenderloin]\n\n# filter the category for each row\ndf_tenderloin_filtered['categories'] = df_tenderloin_filtered.apply(get_category_type, axis=1)\n\n# clean column names by keeping only last term\ndf_tenderloin_filtered.columns = [column.split('.')[-1] for column in df_tenderloin_filtered.columns]\n\ndf_tenderloin_filtered.head(5)"
        },
        {
            "cell_type": "markdown",
            "metadata": {},
            "source": "#### Appending dataframes and removing duplicate restaurants"
        },
        {
            "cell_type": "code",
            "execution_count": 34,
            "metadata": {},
            "outputs": [
                {
                    "name": "stderr",
                    "output_type": "stream",
                    "text": "/opt/conda/envs/Python36/lib/python3.6/site-packages/pandas/core/frame.py:6692: FutureWarning: Sorting because non-concatenation axis is not aligned. A future version\nof pandas will change to not sort by default.\n\nTo accept the future behavior, pass 'sort=False'.\n\nTo retain the current behavior and silence the warning, pass 'sort=True'.\n\n  sort=sort)\n"
                },
                {
                    "data": {
                        "text/html": "<div>\n<style scoped>\n    .dataframe tbody tr th:only-of-type {\n        vertical-align: middle;\n    }\n\n    .dataframe tbody tr th {\n        vertical-align: top;\n    }\n\n    .dataframe thead th {\n        text-align: right;\n    }\n</style>\n<table border=\"1\" class=\"dataframe\">\n  <thead>\n    <tr style=\"text-align: right;\">\n      <th></th>\n      <th>distance</th>\n      <th>lat</th>\n      <th>lng</th>\n    </tr>\n  </thead>\n  <tbody>\n    <tr>\n      <th>count</th>\n      <td>494.000000</td>\n      <td>494.000000</td>\n      <td>494.000000</td>\n    </tr>\n    <tr>\n      <th>mean</th>\n      <td>2661.874494</td>\n      <td>37.751770</td>\n      <td>-122.427540</td>\n    </tr>\n    <tr>\n      <th>std</th>\n      <td>1545.402763</td>\n      <td>0.040449</td>\n      <td>0.023392</td>\n    </tr>\n    <tr>\n      <th>min</th>\n      <td>59.000000</td>\n      <td>37.609080</td>\n      <td>-122.505533</td>\n    </tr>\n    <tr>\n      <th>25%</th>\n      <td>1355.500000</td>\n      <td>37.742801</td>\n      <td>-122.436974</td>\n    </tr>\n    <tr>\n      <th>50%</th>\n      <td>2376.000000</td>\n      <td>37.763460</td>\n      <td>-122.422078</td>\n    </tr>\n    <tr>\n      <th>75%</th>\n      <td>3789.000000</td>\n      <td>37.776549</td>\n      <td>-122.411602</td>\n    </tr>\n    <tr>\n      <th>max</th>\n      <td>6563.000000</td>\n      <td>37.804328</td>\n      <td>-122.383439</td>\n    </tr>\n  </tbody>\n</table>\n</div>",
                        "text/plain": "          distance         lat         lng\ncount   494.000000  494.000000  494.000000\nmean   2661.874494   37.751770 -122.427540\nstd    1545.402763    0.040449    0.023392\nmin      59.000000   37.609080 -122.505533\n25%    1355.500000   37.742801 -122.436974\n50%    2376.000000   37.763460 -122.422078\n75%    3789.000000   37.776549 -122.411602\nmax    6563.000000   37.804328 -122.383439"
                    },
                    "execution_count": 34,
                    "metadata": {},
                    "output_type": "execute_result"
                }
            ],
            "source": "df = df_tenderloin_filtered.append([df_bayview_filtered,df_central_filtered,df_ingleside_filtered,df_mission_filtered,df_northern_filtered,df_park_filtered,df_richmond_filtered,df_southern_filtered,df_taraval_filtered])\ndf.describe()"
        },
        {
            "cell_type": "code",
            "execution_count": 35,
            "metadata": {
                "scrolled": true
            },
            "outputs": [],
            "source": "df = df.drop_duplicates(subset = 'id', keep='first')"
        },
        {
            "cell_type": "code",
            "execution_count": 36,
            "metadata": {},
            "outputs": [
                {
                    "data": {
                        "text/html": "<div>\n<style scoped>\n    .dataframe tbody tr th:only-of-type {\n        vertical-align: middle;\n    }\n\n    .dataframe tbody tr th {\n        vertical-align: top;\n    }\n\n    .dataframe thead th {\n        text-align: right;\n    }\n</style>\n<table border=\"1\" class=\"dataframe\">\n  <thead>\n    <tr style=\"text-align: right;\">\n      <th></th>\n      <th>distance</th>\n      <th>lat</th>\n      <th>lng</th>\n    </tr>\n  </thead>\n  <tbody>\n    <tr>\n      <th>count</th>\n      <td>190.000000</td>\n      <td>190.000000</td>\n      <td>190.000000</td>\n    </tr>\n    <tr>\n      <th>mean</th>\n      <td>2678.431579</td>\n      <td>37.731950</td>\n      <td>-122.432243</td>\n    </tr>\n    <tr>\n      <th>std</th>\n      <td>1543.755951</td>\n      <td>0.054223</td>\n      <td>0.028518</td>\n    </tr>\n    <tr>\n      <th>min</th>\n      <td>65.000000</td>\n      <td>37.609080</td>\n      <td>-122.505533</td>\n    </tr>\n    <tr>\n      <th>25%</th>\n      <td>1407.750000</td>\n      <td>37.707529</td>\n      <td>-122.453064</td>\n    </tr>\n    <tr>\n      <th>50%</th>\n      <td>2444.000000</td>\n      <td>37.752042</td>\n      <td>-122.424705</td>\n    </tr>\n    <tr>\n      <th>75%</th>\n      <td>3865.750000</td>\n      <td>37.772368</td>\n      <td>-122.411263</td>\n    </tr>\n    <tr>\n      <th>max</th>\n      <td>5913.000000</td>\n      <td>37.804328</td>\n      <td>-122.383439</td>\n    </tr>\n  </tbody>\n</table>\n</div>",
                        "text/plain": "          distance         lat         lng\ncount   190.000000  190.000000  190.000000\nmean   2678.431579   37.731950 -122.432243\nstd    1543.755951    0.054223    0.028518\nmin      65.000000   37.609080 -122.505533\n25%    1407.750000   37.707529 -122.453064\n50%    2444.000000   37.752042 -122.424705\n75%    3865.750000   37.772368 -122.411263\nmax    5913.000000   37.804328 -122.383439"
                    },
                    "execution_count": 36,
                    "metadata": {},
                    "output_type": "execute_result"
                }
            ],
            "source": "df.describe()"
        },
        {
            "cell_type": "code",
            "execution_count": 37,
            "metadata": {},
            "outputs": [
                {
                    "name": "stdout",
                    "output_type": "stream",
                    "text": "there are 190 unique pizza restaurants\n"
                }
            ],
            "source": "print('there are',df['lat'].count(),'unique pizza restaurants')"
        },
        {
            "cell_type": "code",
            "execution_count": 38,
            "metadata": {
                "scrolled": false
            },
            "outputs": [
                {
                    "data": {
                        "text/html": "<div>\n<style scoped>\n    .dataframe tbody tr th:only-of-type {\n        vertical-align: middle;\n    }\n\n    .dataframe tbody tr th {\n        vertical-align: top;\n    }\n\n    .dataframe thead th {\n        text-align: right;\n    }\n</style>\n<table border=\"1\" class=\"dataframe\">\n  <thead>\n    <tr style=\"text-align: right;\">\n      <th></th>\n      <th>address</th>\n      <th>categories</th>\n      <th>cc</th>\n      <th>city</th>\n      <th>country</th>\n      <th>crossStreet</th>\n      <th>distance</th>\n      <th>formattedAddress</th>\n      <th>id</th>\n      <th>labeledLatLngs</th>\n      <th>lat</th>\n      <th>lng</th>\n      <th>name</th>\n      <th>neighborhood</th>\n      <th>postalCode</th>\n      <th>state</th>\n    </tr>\n  </thead>\n  <tbody>\n    <tr>\n      <th>0</th>\n      <td>2414 San Bruno Ave</td>\n      <td>Pizza Place</td>\n      <td>US</td>\n      <td>San Francisco</td>\n      <td>United States</td>\n      <td>Silver Ave</td>\n      <td>1867</td>\n      <td>[2414 San Bruno Ave (Silver Ave), San Francisc...</td>\n      <td>4af1e518f964a52034e421e3</td>\n      <td>[{'label': 'display', 'lat': 37.73206410139971...</td>\n      <td>37.732064</td>\n      <td>-122.405506</td>\n      <td>Pizza Joint</td>\n      <td>NaN</td>\n      <td>94134</td>\n      <td>CA</td>\n    </tr>\n    <tr>\n      <th>1</th>\n      <td>3193 Mission St</td>\n      <td>Brewery</td>\n      <td>US</td>\n      <td>San Francisco</td>\n      <td>United States</td>\n      <td>Fair St</td>\n      <td>3548</td>\n      <td>[3193 Mission St (Fair St), San Francisco, CA ...</td>\n      <td>5c37fbb3610f04002c72e497</td>\n      <td>[{'label': 'display', 'lat': 37.74573858325575...</td>\n      <td>37.745739</td>\n      <td>-122.419737</td>\n      <td>Cellarmaker House of Pizza</td>\n      <td>Bernal Heights</td>\n      <td>94110</td>\n      <td>CA</td>\n    </tr>\n    <tr>\n      <th>2</th>\n      <td>2660 San Bruno Ave</td>\n      <td>Pizza Place</td>\n      <td>US</td>\n      <td>San Francisco</td>\n      <td>United States</td>\n      <td>btwn Bacon &amp; Burrows</td>\n      <td>1733</td>\n      <td>[2660 San Bruno Ave (btwn Bacon &amp; Burrows), Sa...</td>\n      <td>4c361c282c8020a107c38600</td>\n      <td>[{'label': 'display', 'lat': 37.72799629961786...</td>\n      <td>37.727996</td>\n      <td>-122.403855</td>\n      <td>Round Table Pizza</td>\n      <td>NaN</td>\n      <td>94134</td>\n      <td>CA</td>\n    </tr>\n    <tr>\n      <th>3</th>\n      <td>400 Valencia St</td>\n      <td>Pizza Place</td>\n      <td>US</td>\n      <td>San Francisco</td>\n      <td>United States</td>\n      <td>at 15th St</td>\n      <td>5205</td>\n      <td>[400 Valencia St (at 15th St), San Francisco, ...</td>\n      <td>4537f9daf964a520c73b1fe3</td>\n      <td>[{'label': 'display', 'lat': 37.76643791899293...</td>\n      <td>37.766438</td>\n      <td>-122.422078</td>\n      <td>Little Star Pizza</td>\n      <td>NaN</td>\n      <td>94103</td>\n      <td>CA</td>\n    </tr>\n    <tr>\n      <th>4</th>\n      <td>300 Connecticut St</td>\n      <td>Pizza Place</td>\n      <td>US</td>\n      <td>San Francisco</td>\n      <td>United States</td>\n      <td>at 18th St</td>\n      <td>3751</td>\n      <td>[300 Connecticut St (at 18th St), San Francisc...</td>\n      <td>413e4b80f964a520521c1fe3</td>\n      <td>[{'label': 'display', 'lat': 37.7624335055108,...</td>\n      <td>37.762434</td>\n      <td>-122.397654</td>\n      <td>Goat Hill Pizza</td>\n      <td>NaN</td>\n      <td>94107</td>\n      <td>CA</td>\n    </tr>\n  </tbody>\n</table>\n</div>",
                        "text/plain": "              address   categories  cc           city        country  \\\n0  2414 San Bruno Ave  Pizza Place  US  San Francisco  United States   \n1     3193 Mission St      Brewery  US  San Francisco  United States   \n2  2660 San Bruno Ave  Pizza Place  US  San Francisco  United States   \n3     400 Valencia St  Pizza Place  US  San Francisco  United States   \n4  300 Connecticut St  Pizza Place  US  San Francisco  United States   \n\n            crossStreet  distance  \\\n0            Silver Ave      1867   \n1               Fair St      3548   \n2  btwn Bacon & Burrows      1733   \n3            at 15th St      5205   \n4            at 18th St      3751   \n\n                                    formattedAddress  \\\n0  [2414 San Bruno Ave (Silver Ave), San Francisc...   \n1  [3193 Mission St (Fair St), San Francisco, CA ...   \n2  [2660 San Bruno Ave (btwn Bacon & Burrows), Sa...   \n3  [400 Valencia St (at 15th St), San Francisco, ...   \n4  [300 Connecticut St (at 18th St), San Francisc...   \n\n                         id  \\\n0  4af1e518f964a52034e421e3   \n1  5c37fbb3610f04002c72e497   \n2  4c361c282c8020a107c38600   \n3  4537f9daf964a520c73b1fe3   \n4  413e4b80f964a520521c1fe3   \n\n                                      labeledLatLngs        lat         lng  \\\n0  [{'label': 'display', 'lat': 37.73206410139971...  37.732064 -122.405506   \n1  [{'label': 'display', 'lat': 37.74573858325575...  37.745739 -122.419737   \n2  [{'label': 'display', 'lat': 37.72799629961786...  37.727996 -122.403855   \n3  [{'label': 'display', 'lat': 37.76643791899293...  37.766438 -122.422078   \n4  [{'label': 'display', 'lat': 37.7624335055108,...  37.762434 -122.397654   \n\n                         name    neighborhood postalCode state  \n0                 Pizza Joint             NaN      94134    CA  \n1  Cellarmaker House of Pizza  Bernal Heights      94110    CA  \n2           Round Table Pizza             NaN      94134    CA  \n3           Little Star Pizza             NaN      94103    CA  \n4             Goat Hill Pizza             NaN      94107    CA  "
                    },
                    "execution_count": 38,
                    "metadata": {},
                    "output_type": "execute_result"
                }
            ],
            "source": "df.head(5)"
        },
        {
            "cell_type": "markdown",
            "metadata": {},
            "source": "#### Classifying each restaurant to their correct neighborhood"
        },
        {
            "cell_type": "code",
            "execution_count": 39,
            "metadata": {},
            "outputs": [
                {
                    "data": {
                        "text/html": "<div>\n<style scoped>\n    .dataframe tbody tr th:only-of-type {\n        vertical-align: middle;\n    }\n\n    .dataframe tbody tr th {\n        vertical-align: top;\n    }\n\n    .dataframe thead th {\n        text-align: right;\n    }\n</style>\n<table border=\"1\" class=\"dataframe\">\n  <thead>\n    <tr style=\"text-align: right;\">\n      <th></th>\n      <th>District</th>\n      <th>MinLong</th>\n      <th>MaxLong</th>\n      <th>MinLat</th>\n      <th>MaxLat</th>\n    </tr>\n  </thead>\n  <tbody>\n    <tr>\n      <th>0</th>\n      <td>CENTRAL</td>\n      <td>-122.426850</td>\n      <td>-122.392919</td>\n      <td>37.786023</td>\n      <td>37.811575</td>\n    </tr>\n    <tr>\n      <th>1</th>\n      <td>SOUTHERN</td>\n      <td>-122.426402</td>\n      <td>-122.384341</td>\n      <td>37.766060</td>\n      <td>37.797949</td>\n    </tr>\n    <tr>\n      <th>2</th>\n      <td>BAYVIEW</td>\n      <td>-122.419533</td>\n      <td>-122.356983</td>\n      <td>37.708363</td>\n      <td>37.776807</td>\n    </tr>\n    <tr>\n      <th>3</th>\n      <td>MISSION</td>\n      <td>-122.445087</td>\n      <td>-122.402884</td>\n      <td>37.745224</td>\n      <td>37.770348</td>\n    </tr>\n    <tr>\n      <th>4</th>\n      <td>PARK</td>\n      <td>-122.464416</td>\n      <td>-122.431187</td>\n      <td>37.743055</td>\n      <td>37.784333</td>\n    </tr>\n  </tbody>\n</table>\n</div>",
                        "text/plain": "   District     MinLong     MaxLong     MinLat     MaxLat\n0   CENTRAL -122.426850 -122.392919  37.786023  37.811575\n1  SOUTHERN -122.426402 -122.384341  37.766060  37.797949\n2   BAYVIEW -122.419533 -122.356983  37.708363  37.776807\n3   MISSION -122.445087 -122.402884  37.745224  37.770348\n4      PARK -122.464416 -122.431187  37.743055  37.784333"
                    },
                    "execution_count": 39,
                    "metadata": {},
                    "output_type": "execute_result"
                }
            ],
            "source": "# The code was removed by Watson Studio for sharing."
        },
        {
            "cell_type": "code",
            "execution_count": 40,
            "metadata": {},
            "outputs": [
                {
                    "data": {
                        "text/html": "<div>\n<style scoped>\n    .dataframe tbody tr th:only-of-type {\n        vertical-align: middle;\n    }\n\n    .dataframe tbody tr th {\n        vertical-align: top;\n    }\n\n    .dataframe thead th {\n        text-align: right;\n    }\n</style>\n<table border=\"1\" class=\"dataframe\">\n  <thead>\n    <tr style=\"text-align: right;\">\n      <th></th>\n      <th>address</th>\n      <th>categories</th>\n      <th>cc</th>\n      <th>city</th>\n      <th>country</th>\n      <th>crossStreet</th>\n      <th>distance</th>\n      <th>formattedAddress</th>\n      <th>id</th>\n      <th>labeledLatLngs</th>\n      <th>lat</th>\n      <th>lng</th>\n      <th>name</th>\n      <th>neighborhood</th>\n      <th>postalCode</th>\n      <th>state</th>\n      <th>District</th>\n    </tr>\n  </thead>\n  <tbody>\n    <tr>\n      <th>0</th>\n      <td>2414 San Bruno Ave</td>\n      <td>Pizza Place</td>\n      <td>US</td>\n      <td>San Francisco</td>\n      <td>United States</td>\n      <td>Silver Ave</td>\n      <td>1867</td>\n      <td>[2414 San Bruno Ave (Silver Ave), San Francisc...</td>\n      <td>4af1e518f964a52034e421e3</td>\n      <td>[{'label': 'display', 'lat': 37.73206410139971...</td>\n      <td>37.732064</td>\n      <td>-122.405506</td>\n      <td>Pizza Joint</td>\n      <td>NaN</td>\n      <td>94134</td>\n      <td>CA</td>\n      <td>INGLESIDE</td>\n    </tr>\n    <tr>\n      <th>1</th>\n      <td>3193 Mission St</td>\n      <td>Brewery</td>\n      <td>US</td>\n      <td>San Francisco</td>\n      <td>United States</td>\n      <td>Fair St</td>\n      <td>3548</td>\n      <td>[3193 Mission St (Fair St), San Francisco, CA ...</td>\n      <td>5c37fbb3610f04002c72e497</td>\n      <td>[{'label': 'display', 'lat': 37.74573858325575...</td>\n      <td>37.745739</td>\n      <td>-122.419737</td>\n      <td>Cellarmaker House of Pizza</td>\n      <td>Bernal Heights</td>\n      <td>94110</td>\n      <td>CA</td>\n      <td>MISSION</td>\n    </tr>\n    <tr>\n      <th>2</th>\n      <td>2660 San Bruno Ave</td>\n      <td>Pizza Place</td>\n      <td>US</td>\n      <td>San Francisco</td>\n      <td>United States</td>\n      <td>btwn Bacon &amp; Burrows</td>\n      <td>1733</td>\n      <td>[2660 San Bruno Ave (btwn Bacon &amp; Burrows), Sa...</td>\n      <td>4c361c282c8020a107c38600</td>\n      <td>[{'label': 'display', 'lat': 37.72799629961786...</td>\n      <td>37.727996</td>\n      <td>-122.403855</td>\n      <td>Round Table Pizza</td>\n      <td>NaN</td>\n      <td>94134</td>\n      <td>CA</td>\n      <td>INGLESIDE</td>\n    </tr>\n    <tr>\n      <th>3</th>\n      <td>400 Valencia St</td>\n      <td>Pizza Place</td>\n      <td>US</td>\n      <td>San Francisco</td>\n      <td>United States</td>\n      <td>at 15th St</td>\n      <td>5205</td>\n      <td>[400 Valencia St (at 15th St), San Francisco, ...</td>\n      <td>4537f9daf964a520c73b1fe3</td>\n      <td>[{'label': 'display', 'lat': 37.76643791899293...</td>\n      <td>37.766438</td>\n      <td>-122.422078</td>\n      <td>Little Star Pizza</td>\n      <td>NaN</td>\n      <td>94103</td>\n      <td>CA</td>\n      <td>SOUTHERN</td>\n    </tr>\n    <tr>\n      <th>4</th>\n      <td>300 Connecticut St</td>\n      <td>Pizza Place</td>\n      <td>US</td>\n      <td>San Francisco</td>\n      <td>United States</td>\n      <td>at 18th St</td>\n      <td>3751</td>\n      <td>[300 Connecticut St (at 18th St), San Francisc...</td>\n      <td>413e4b80f964a520521c1fe3</td>\n      <td>[{'label': 'display', 'lat': 37.7624335055108,...</td>\n      <td>37.762434</td>\n      <td>-122.397654</td>\n      <td>Goat Hill Pizza</td>\n      <td>NaN</td>\n      <td>94107</td>\n      <td>CA</td>\n      <td>BAYVIEW</td>\n    </tr>\n  </tbody>\n</table>\n</div>",
                        "text/plain": "              address   categories  cc           city        country  \\\n0  2414 San Bruno Ave  Pizza Place  US  San Francisco  United States   \n1     3193 Mission St      Brewery  US  San Francisco  United States   \n2  2660 San Bruno Ave  Pizza Place  US  San Francisco  United States   \n3     400 Valencia St  Pizza Place  US  San Francisco  United States   \n4  300 Connecticut St  Pizza Place  US  San Francisco  United States   \n\n            crossStreet  distance  \\\n0            Silver Ave      1867   \n1               Fair St      3548   \n2  btwn Bacon & Burrows      1733   \n3            at 15th St      5205   \n4            at 18th St      3751   \n\n                                    formattedAddress  \\\n0  [2414 San Bruno Ave (Silver Ave), San Francisc...   \n1  [3193 Mission St (Fair St), San Francisco, CA ...   \n2  [2660 San Bruno Ave (btwn Bacon & Burrows), Sa...   \n3  [400 Valencia St (at 15th St), San Francisco, ...   \n4  [300 Connecticut St (at 18th St), San Francisc...   \n\n                         id  \\\n0  4af1e518f964a52034e421e3   \n1  5c37fbb3610f04002c72e497   \n2  4c361c282c8020a107c38600   \n3  4537f9daf964a520c73b1fe3   \n4  413e4b80f964a520521c1fe3   \n\n                                      labeledLatLngs        lat         lng  \\\n0  [{'label': 'display', 'lat': 37.73206410139971...  37.732064 -122.405506   \n1  [{'label': 'display', 'lat': 37.74573858325575...  37.745739 -122.419737   \n2  [{'label': 'display', 'lat': 37.72799629961786...  37.727996 -122.403855   \n3  [{'label': 'display', 'lat': 37.76643791899293...  37.766438 -122.422078   \n4  [{'label': 'display', 'lat': 37.7624335055108,...  37.762434 -122.397654   \n\n                         name    neighborhood postalCode state   District  \n0                 Pizza Joint             NaN      94134    CA  INGLESIDE  \n1  Cellarmaker House of Pizza  Bernal Heights      94110    CA    MISSION  \n2           Round Table Pizza             NaN      94134    CA  INGLESIDE  \n3           Little Star Pizza             NaN      94103    CA   SOUTHERN  \n4             Goat Hill Pizza             NaN      94107    CA    BAYVIEW  "
                    },
                    "execution_count": 40,
                    "metadata": {},
                    "output_type": "execute_result"
                }
            ],
            "source": "for key, district in df2.groupby('District'):\n    \n    cols = ['MinLat','MaxLat','MinLong','MaxLong']\n    \n    masks = (df['lat'].between(MinLat,MaxLat) & \\\n             df['lng'].between(MinLong,MaxLong) \\\n            for MinLat, MaxLat,MinLong,MaxLong in \\\n            district[cols].itertuples(index=False))\n    \n    df.loc[pd.concat(masks, axis=1).any(1),'District'] = key\n    \ndf['District'] = df['District'].fillna('CENTRAL')\ndf['District'].replace('Unknown','CENTRAL',inplace=True)\ndf.head(5)"
        },
        {
            "cell_type": "code",
            "execution_count": 41,
            "metadata": {},
            "outputs": [
                {
                    "data": {
                        "text/html": "<div>\n<style scoped>\n    .dataframe tbody tr th:only-of-type {\n        vertical-align: middle;\n    }\n\n    .dataframe tbody tr th {\n        vertical-align: top;\n    }\n\n    .dataframe thead th {\n        text-align: right;\n    }\n</style>\n<table border=\"1\" class=\"dataframe\">\n  <thead>\n    <tr style=\"text-align: right;\">\n      <th></th>\n      <th>Neighbourhood</th>\n      <th>Count</th>\n    </tr>\n  </thead>\n  <tbody>\n    <tr>\n      <th>1</th>\n      <td>CENTRAL</td>\n      <td>51</td>\n    </tr>\n    <tr>\n      <th>8</th>\n      <td>TARAVAL</td>\n      <td>27</td>\n    </tr>\n    <tr>\n      <th>6</th>\n      <td>RICHMOND</td>\n      <td>21</td>\n    </tr>\n    <tr>\n      <th>7</th>\n      <td>SOUTHERN</td>\n      <td>21</td>\n    </tr>\n    <tr>\n      <th>2</th>\n      <td>INGLESIDE</td>\n      <td>19</td>\n    </tr>\n    <tr>\n      <th>3</th>\n      <td>MISSION</td>\n      <td>19</td>\n    </tr>\n    <tr>\n      <th>4</th>\n      <td>NORTHERN</td>\n      <td>10</td>\n    </tr>\n    <tr>\n      <th>0</th>\n      <td>BAYVIEW</td>\n      <td>8</td>\n    </tr>\n    <tr>\n      <th>9</th>\n      <td>TENDERLOIN</td>\n      <td>8</td>\n    </tr>\n    <tr>\n      <th>5</th>\n      <td>PARK</td>\n      <td>6</td>\n    </tr>\n  </tbody>\n</table>\n</div>",
                        "text/plain": "  Neighbourhood  Count\n1       CENTRAL     51\n8       TARAVAL     27\n6      RICHMOND     21\n7      SOUTHERN     21\n2     INGLESIDE     19\n3       MISSION     19\n4      NORTHERN     10\n0       BAYVIEW      8\n9    TENDERLOIN      8\n5          PARK      6"
                    },
                    "execution_count": 41,
                    "metadata": {},
                    "output_type": "execute_result"
                }
            ],
            "source": "df_San = df[['District','id']].groupby(['District']).count()\ndf_San.reset_index(inplace=True)\ndf_San.rename(columns={'District':'Neighbourhood','id':'Count'}, inplace=True)\n\ndf_San.sort_values(by='Count', ascending=False, axis=0, inplace=True)\n\ndf_San"
        },
        {
            "cell_type": "code",
            "execution_count": 42,
            "metadata": {},
            "outputs": [
                {
                    "data": {
                        "text/plain": "<matplotlib.axes._subplots.AxesSubplot at 0x7f5c29e385c0>"
                    },
                    "execution_count": 42,
                    "metadata": {},
                    "output_type": "execute_result"
                }
            ],
            "source": "df_San.plot(kind='bar')"
        },
        {
            "cell_type": "markdown",
            "metadata": {},
            "source": "### Methodology - Chi Squared goodness of fit test"
        },
        {
            "cell_type": "markdown",
            "metadata": {},
            "source": "We will use a Chi Squared Goodness of Fit test to determine which Neighbourhood has statistically the most pizzerias.\nThis test is used to compare the observed frequency against the expected frequency for a categorical variable.\nTo determine whether or not some neighbourhoods have more pizzerias, we would test against each neighbourhood having the same number of pizzerias."
        },
        {
            "cell_type": "markdown",
            "metadata": {},
            "source": "Null hypothesis: observed = expected\n\nAlternate hypothesis: observed \u2260 expected "
        },
        {
            "cell_type": "code",
            "execution_count": 43,
            "metadata": {},
            "outputs": [
                {
                    "name": "stdout",
                    "output_type": "stream",
                    "text": "Chisq stat = 83.57894736842104\ndf = 9\n"
                },
                {
                    "ename": "NameError",
                    "evalue": "name 'stats' is not defined",
                    "output_type": "error",
                    "traceback": [
                        "\u001b[0;31m---------------------------------------------------------------------------\u001b[0m",
                        "\u001b[0;31mNameError\u001b[0m                                 Traceback (most recent call last)",
                        "\u001b[0;32m<ipython-input-43-03096c2fc45c>\u001b[0m in \u001b[0;36m<module>\u001b[0;34m\u001b[0m\n\u001b[1;32m      7\u001b[0m \u001b[0mprint\u001b[0m\u001b[0;34m(\u001b[0m\u001b[0;34m'df ='\u001b[0m\u001b[0;34m,\u001b[0m\u001b[0mdf_San\u001b[0m\u001b[0;34m[\u001b[0m\u001b[0;34m'Neighbourhood'\u001b[0m\u001b[0;34m]\u001b[0m\u001b[0;34m.\u001b[0m\u001b[0mcount\u001b[0m\u001b[0;34m(\u001b[0m\u001b[0;34m)\u001b[0m\u001b[0;34m-\u001b[0m\u001b[0;36m1\u001b[0m\u001b[0;34m)\u001b[0m\u001b[0;34m\u001b[0m\u001b[0;34m\u001b[0m\u001b[0m\n\u001b[1;32m      8\u001b[0m \u001b[0;34m\u001b[0m\u001b[0m\n\u001b[0;32m----> 9\u001b[0;31m \u001b[0mcrit\u001b[0m \u001b[0;34m=\u001b[0m \u001b[0mstats\u001b[0m\u001b[0;34m.\u001b[0m\u001b[0mchi2\u001b[0m\u001b[0;34m.\u001b[0m\u001b[0mppf\u001b[0m\u001b[0;34m(\u001b[0m\u001b[0mq\u001b[0m \u001b[0;34m=\u001b[0m \u001b[0;36m0.95\u001b[0m\u001b[0;34m,\u001b[0m \u001b[0mdf\u001b[0m \u001b[0;34m=\u001b[0m \u001b[0mdf_San\u001b[0m\u001b[0;34m[\u001b[0m\u001b[0;34m'Neighbourhood'\u001b[0m\u001b[0;34m]\u001b[0m\u001b[0;34m.\u001b[0m\u001b[0mcount\u001b[0m\u001b[0;34m(\u001b[0m\u001b[0;34m)\u001b[0m\u001b[0;34m-\u001b[0m\u001b[0;36m1\u001b[0m\u001b[0;34m)\u001b[0m\u001b[0;34m\u001b[0m\u001b[0;34m\u001b[0m\u001b[0m\n\u001b[0m\u001b[1;32m     10\u001b[0m \u001b[0mprint\u001b[0m\u001b[0;34m(\u001b[0m\u001b[0;34m\"Critical value =\"\u001b[0m\u001b[0;34m,\u001b[0m\u001b[0mcrit\u001b[0m\u001b[0;34m)\u001b[0m\u001b[0;34m\u001b[0m\u001b[0;34m\u001b[0m\u001b[0m\n\u001b[1;32m     11\u001b[0m \u001b[0;34m\u001b[0m\u001b[0m\n",
                        "\u001b[0;31mNameError\u001b[0m: name 'stats' is not defined"
                    ]
                }
            ],
            "source": "observed = df_San['Count']\nexpected = df_San['Count'].sum() / df_San['Neighbourhood'].count()\n\nchi_squared_stat = (((observed-expected)**2)/expected).sum()\n\nprint('Chisq stat =',chi_squared_stat)\nprint('df =',df_San['Neighbourhood'].count()-1)\n\ncrit = stats.chi2.ppf(q = 0.95, df = df_San['Neighbourhood'].count()-1)   \nprint(\"Critical value =\",crit)\n\np_value = 1 - stats.chi2.cdf(x=chi_squared_stat, df = df_San['Neighbourhood'].count()-1)\nprint(\"P value =\",p_value)"
        },
        {
            "cell_type": "markdown",
            "metadata": {},
            "source": "### Results "
        },
        {
            "cell_type": "markdown",
            "metadata": {},
            "source": "The above p-value is less than 0.05, so we reject the null hypothesis.\nThis suggests that not all Neighbourhoods have the same number of pizzerias."
        },
        {
            "cell_type": "code",
            "execution_count": null,
            "metadata": {},
            "outputs": [],
            "source": "# Your data file was loaded into a botocore.response.StreamingBody object.\n# Please read the documentation of ibm_boto3 and pandas to learn more about the possibilities to load the data.\n# ibm_boto3 documentation: https://ibm.github.io/ibm-cos-sdk-python/\n# pandas documentation: http://pandas.pydata.org/\nstreaming_body_1 = client_a92d6b46523d4d3c9ab2c34389b755d4.get_object(Bucket='courseracapstone-donotdelete-pr-jozhmuaocmnauk', Key='san-francisco.geojson')['Body']\n# add missing __iter__ method so pandas accepts body as file-like object\nif not hasattr(streaming_body_1, \"__iter__\"): streaming_body_1.__iter__ = types.MethodType( __iter__, streaming_body_1 ) \n    \nSanFran_Geo = r'san-francisco.geojson'"
        },
        {
            "cell_type": "code",
            "execution_count": null,
            "metadata": {},
            "outputs": [],
            "source": "SanFran_Geo"
        },
        {
            "cell_type": "code",
            "execution_count": null,
            "metadata": {},
            "outputs": [],
            "source": "SanFran_map = folium.Map(location = [37.77,-122.42], zoom_start = 13)\n\n\nfor lat, lng in zip(df.lat, df.lng):\n    folium.features.CircleMarker(\n        [lat, lng],\n        radius=5, # define how big you want the circle markers to be\n        color='yellow',\n        fill=True,\n        fill_color='blue',\n        fill_opacity=0.6\n    ).add_to(SanFran_map)\n\nSanFran_map"
        },
        {
            "cell_type": "markdown",
            "metadata": {},
            "source": "After inspecting figure _______, and the above map, we are able to conclude that the Central Neighbourhood statistically has the most pizzerias."
        },
        {
            "cell_type": "markdown",
            "metadata": {},
            "source": "### Discussion "
        },
        {
            "cell_type": "markdown",
            "metadata": {},
            "source": "This purpose of this report is to determine the optimal neighbourhood in San Francisco to open a new branch. With data showing the key driving factor for job satisfaction among Data Daddy employees to be proximity to pizzerias, we have analysed data to determine which Neighbourhood in San Francisco has the most pizzerias.\n\nAt the beginning of the report we assumed that the Neighbourhood to have the most pizzerias is \"Central\". Using the Chi Squared Goodness of Fit test, we are able to conclude that this assumption is correct."
        },
        {
            "cell_type": "markdown",
            "metadata": {},
            "source": "### Conclusion"
        },
        {
            "cell_type": "markdown",
            "metadata": {},
            "source": "In this report I analysed geospatial data to determine which neighbourhood contains the most pizzerias. With the number of pizzerias being the prime factor in determining where to open a Data Daddy San Francisco branch, I would recommend opening the San Francisco branch in the Central neighbourhood.\n\nThis report looks solely at the freqency of pizzerias and narrows down the neighbourhoods in San Francisco. There are many additional data we could leverage off to inform the executives at Data Daddy on possibly another neighbourhood, or a district within the central neighbourhood for a new Data Daddy branch.\nFuture research could:\n- Sample a more comprehensive job satifaction survery prior to this report\n- leverage off real time commercial rental properties in the San Francisco area\n- Compare the cost of setting up a branch in a  neighbourhood surrounding the central neighbourhood"
        },
        {
            "cell_type": "code",
            "execution_count": null,
            "metadata": {},
            "outputs": [],
            "source": ""
        },
        {
            "cell_type": "code",
            "execution_count": null,
            "metadata": {},
            "outputs": [],
            "source": ""
        }
    ],
    "metadata": {
        "kernelspec": {
            "display_name": "Python 3.6",
            "language": "python",
            "name": "python3"
        },
        "language_info": {
            "codemirror_mode": {
                "name": "ipython",
                "version": 3
            },
            "file_extension": ".py",
            "mimetype": "text/x-python",
            "name": "python",
            "nbconvert_exporter": "python",
            "pygments_lexer": "ipython3",
            "version": "3.6.9"
        }
    },
    "nbformat": 4,
    "nbformat_minor": 1
}